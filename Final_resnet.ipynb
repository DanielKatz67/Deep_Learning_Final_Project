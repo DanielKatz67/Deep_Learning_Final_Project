{
 "cells": [
  {
   "metadata": {
    "ExecuteTime": {
     "end_time": "2025-08-09T14:46:58.334070Z",
     "start_time": "2025-08-09T14:46:54.370448Z"
    }
   },
   "cell_type": "code",
   "source": [
    "# Setup (PyTorch, paths, device, seeds)\n",
    "import os, random, math, time\n",
    "import numpy as np\n",
    "import matplotlib.pyplot as plt\n",
    "import kagglehub\n",
    "import torch\n",
    "import torch.nn as nn\n",
    "import torch.nn.functional as F\n",
    "from torch.optim import AdamW\n",
    "from torch.optim.lr_scheduler import ReduceLROnPlateau\n",
    "from torch.utils.data import DataLoader\n",
    "from torchvision import datasets, transforms ,models\n",
    "from tqdm import tqdm\n",
    "from sklearn.model_selection import train_test_split\n",
    "import shutil\n",
    "import tempfile\n",
    "\n",
    "from sklearn.metrics import confusion_matrix, classification_report, roc_auc_score, roc_curve, precision_recall_fscore_support\n",
    "torch.manual_seed(42)"
   ],
   "id": "b703f1837ead424",
   "outputs": [
    {
     "data": {
      "text/plain": [
       "<torch._C.Generator at 0x10fe5c7f0>"
      ]
     },
     "execution_count": 1,
     "metadata": {},
     "output_type": "execute_result"
    }
   ],
   "execution_count": 1
  },
  {
   "metadata": {
    "ExecuteTime": {
     "end_time": "2025-08-09T14:47:01.744732Z",
     "start_time": "2025-08-09T14:47:01.134541Z"
    }
   },
   "cell_type": "code",
   "source": [
    "path = kagglehub.dataset_download(\"paultimothymooney/chest-xray-pneumonia\")\n",
    "# Use the returned path to set base_dir correctly\n",
    "base_dir = os.path.join(path, \"chest_xray\")\n",
    "train_dir = os.path.join(base_dir, 'train')\n",
    "val_dir   = os.path.join(base_dir, 'val')\n",
    "test_dir  = os.path.join(base_dir, 'test')"
   ],
   "id": "afc4e9f146f60171",
   "outputs": [],
   "execution_count": 2
  },
  {
   "metadata": {
    "ExecuteTime": {
     "end_time": "2025-08-09T14:47:03.943983Z",
     "start_time": "2025-08-09T14:47:03.938856Z"
    }
   },
   "cell_type": "code",
   "source": [
    "print(\"Train dir:\", train_dir)\n",
    "print(\"Val dir:\", val_dir)\n",
    "print(\"Test dir:\", test_dir)\n",
    "\n",
    "print(\"Train dir contents:\", os.listdir(train_dir))\n",
    "print(\"Val dir contents:\", os.listdir(val_dir))\n",
    "print(\"Test dir contents:\", os.listdir(test_dir))"
   ],
   "id": "fbaee290adb9096e",
   "outputs": [
    {
     "name": "stdout",
     "output_type": "stream",
     "text": [
      "Train dir: /Users/daniel/.cache/kagglehub/datasets/paultimothymooney/chest-xray-pneumonia/versions/2/chest_xray/train\n",
      "Val dir: /Users/daniel/.cache/kagglehub/datasets/paultimothymooney/chest-xray-pneumonia/versions/2/chest_xray/val\n",
      "Test dir: /Users/daniel/.cache/kagglehub/datasets/paultimothymooney/chest-xray-pneumonia/versions/2/chest_xray/test\n",
      "Train dir contents: ['.DS_Store', 'PNEUMONIA', 'NORMAL']\n",
      "Val dir contents: ['.DS_Store', 'PNEUMONIA', 'NORMAL']\n",
      "Test dir contents: ['.DS_Store', 'PNEUMONIA', 'NORMAL']\n"
     ]
    }
   ],
   "execution_count": 3
  },
  {
   "metadata": {},
   "cell_type": "code",
   "outputs": [],
   "execution_count": null,
   "source": [
    "# Datasets, DataLoaders, class weights (for imbalance)\n",
    "IMG_SIZE = 224\n",
    "BATCH_SIZE = 64\n",
    "NUM_WORKERS = 4\n",
    "\n",
    "transform = transforms.Compose([\n",
    "    transforms.Resize((IMG_SIZE, IMG_SIZE)),\n",
    "    transforms.RandomHorizontalFlip(p=0.5),\n",
    "    transforms.RandomRotation(10),\n",
    "    transforms.RandomResizedCrop(IMG_SIZE, scale=(0.9, 1.0)),\n",
    "    transforms.ToTensor(),\n",
    "    transforms.Normalize(mean=[0.485, 0.456, 0.406], std=[0.229, 0.224, 0.225]),  # Normalize\n",
    "])\n",
    "\n",
    "train_ds = datasets.ImageFolder(train_dir, transform=transform)\n",
    "val_ds   = datasets.ImageFolder(val_dir,   transform=transform)\n",
    "test_ds  = datasets.ImageFolder(test_dir,  transform=transform)\n",
    "\n",
    "print(\"Classes:\", train_ds.classes, \"=>\", train_ds.class_to_idx)"
   ],
   "id": "99a268b479a53658"
  },
  {
   "metadata": {},
   "cell_type": "code",
   "outputs": [],
   "execution_count": null,
   "source": [
    "# CNN model as a class (__init__ + forward)\n",
    "class PneumoCNN(nn.Module):\n",
    "    def __init__(self, num_classes=1):\n",
    "        super(PneumoCNN, self).__init__()\n",
    "        weights = models.ResNet18_Weights.IMAGENET1K_V1\n",
    "        m = models.resnet18(weights=weights)\n",
    "        m.fc = nn.Linear(m.fc.in_features, 1)\n",
    "        self.net = m\n",
    "\n",
    "    def forward(self, x):\n",
    "        return self.net(x).squeeze(1)  # [B]"
   ],
   "id": "de02151071936a6e"
  },
  {
   "metadata": {},
   "cell_type": "code",
   "outputs": [],
   "execution_count": null,
   "source": [
    "model = PneumoCNN(num_classes=1)\n",
    "model"
   ],
   "id": "ed24565bb530937a"
  },
  {
   "metadata": {},
   "cell_type": "code",
   "outputs": [],
   "execution_count": null,
   "source": [
    "device = torch.device(\"cuda\" if torch.cuda.is_available() else \"cpu\")\n",
    "print(\"device: \", device)\n",
    "model = model.to(device)\n",
    "EPOCHS = 15\n",
    "patience = int(EPOCHS * 2/3)\n",
    "lr = 1e-3\n",
    "\n",
    "train_loader = DataLoader(train_ds, batch_size=BATCH_SIZE, shuffle=True,  num_workers=NUM_WORKERS, pin_memory=True)\n",
    "val_loader   = DataLoader(val_ds,   batch_size=BATCH_SIZE, shuffle=False, num_workers=NUM_WORKERS, pin_memory=True)\n",
    "test_loader  = DataLoader(test_ds,  batch_size=BATCH_SIZE, shuffle=False, num_workers=NUM_WORKERS, pin_memory=True)"
   ],
   "id": "f97b0d4eeba3a3a4"
  },
  {
   "metadata": {},
   "cell_type": "code",
   "outputs": [],
   "execution_count": null,
   "source": [
    "# Compute class weights for BCEWithLogitsLoss (pos_weight = N_neg / N_pos for label=1 class)\n",
    "# In ImageFolder, NORMAL -> 0, PNEUMONIA -> 1 (alphabetical)\n",
    "train_targets = torch.tensor([y for _, y in train_ds.samples])\n",
    "pos = (train_targets==1).sum().item()\n",
    "neg = (train_targets==0).sum().item()\n",
    "pos_weight = torch.tensor([neg / max(pos,1.0)], dtype=torch.float32)\n",
    "print(f\"Train counts -> NEG(NORMAL)={neg}, POS(PNEUMONIA)={pos}, pos_weight={pos_weight.item():.3f}\")"
   ],
   "id": "9b8cdf49ba014121"
  },
  {
   "metadata": {},
   "cell_type": "code",
   "outputs": [],
   "execution_count": null,
   "source": [
    "# # Loss, Optimizer, LR scheduler\n",
    "criterion = nn.BCEWithLogitsLoss(pos_weight=pos_weight.to(device))  # robust for class imbalance\n",
    "optimizer = AdamW(model.parameters(), lr=lr)\n",
    "# scheduler = ReduceLROnPlateau(optimizer, mode='max', factor=0.5, patience=2, verbose=True) # monitors val accuracy"
   ],
   "id": "b50f3aa6180c3597"
  },
  {
   "metadata": {},
   "cell_type": "code",
   "outputs": [],
   "execution_count": null,
   "source": [
    "# Utilities: train/eval loops\n",
    "def accuracy_from_logits(logits, targets):\n",
    "    probs = torch.sigmoid(logits).squeeze(1)\n",
    "    preds = (probs >= 0.5).long()\n",
    "    correct = (preds == targets.long()).sum().item()\n",
    "    return correct, preds, probs\n",
    "\n",
    "def run_one_epoch(model, loader, epochNumber, optimizer=None):\n",
    "    is_train = optimizer is not None\n",
    "    model.train() if is_train else model.eval()\n",
    "    epoch_loss = 0.0\n",
    "    correct = 0\n",
    "    n = 0\n",
    "    all_probs, all_targets = [], []\n",
    "\n",
    "    for images, targets in tqdm(loader, desc=f\"Epoch {epochNumber}/{EPOCHS}\"):\n",
    "        images = images.to(device, non_blocking=True)\n",
    "        targets = targets.to(device, non_blocking=True)\n",
    "\n",
    "        with torch.set_grad_enabled(is_train):\n",
    "            logits  = model(images)\n",
    "            if logits.ndim == 2 and logits.size(1) == 1:\n",
    "                logits = logits[:, 0]\n",
    "            targets = targets.float().view(-1)\n",
    "            loss = criterion(logits, targets)\n",
    "            if is_train:\n",
    "                optimizer.zero_grad(set_to_none=True)\n",
    "                loss.backward()\n",
    "                optimizer.step()\n",
    "\n",
    "        c, _, probs = accuracy_from_logits(logits.unsqueeze(1), targets)\n",
    "        epoch_loss += loss.item() * images.size(0)\n",
    "        correct += c\n",
    "        n += images.size(0)\n",
    "\n",
    "        all_probs.append(probs.detach().cpu())\n",
    "        all_targets.append(targets.detach().cpu())\n",
    "\n",
    "    avg_loss = epoch_loss / n\n",
    "    acc = correct / n\n",
    "    all_probs = torch.cat(all_probs).numpy()\n",
    "    all_targets = torch.cat(all_targets).numpy()\n",
    "\n",
    "    # Some environments may lack enough positive/negative samples for AUC early on; guard it\n",
    "    try:\n",
    "        auc = roc_auc_score(all_targets, all_probs)\n",
    "    except Exception:\n",
    "        auc = float('nan')\n",
    "\n",
    "    return avg_loss, acc, auc, all_probs, all_targets"
   ],
   "id": "d8a6d6a722cb7021"
  },
  {
   "metadata": {},
   "cell_type": "code",
   "outputs": [],
   "execution_count": null,
   "source": [
    "# CTraining over epochs with early stopping + checkpoint\n",
    "best_val_acc = -np.inf\n",
    "no_improve = 0\n",
    "ckpt_path = \"best_cnn_pneumonia.pt\"\n",
    "\n",
    "history = {\"train_loss\":[], \"train_acc\":[], \"train_auc\":[],\n",
    "           \"val_loss\":[], \"val_acc\":[], \"val_auc\":[]}\n",
    "\n",
    "start = time.time()\n",
    "for epoch in range(1, EPOCHS+1):\n",
    "    tr_loss, tr_acc, tr_auc, _, _ = run_one_epoch(model, train_loader, epoch, optimizer)\n",
    "    va_loss, va_acc, va_auc, _, _ = run_one_epoch(model, val_loader, epoch, optimizer=None)\n",
    "\n",
    "    history[\"train_loss\"].append(tr_loss); history[\"train_acc\"].append(tr_acc); history[\"train_auc\"].append(tr_auc)\n",
    "    history[\"val_loss\"].append(va_loss);   history[\"val_acc\"].append(va_acc);   history[\"val_auc\"].append(va_auc)\n",
    "\n",
    "    # scheduler.step(va_acc)\n",
    "\n",
    "    print(f\"Epoch {epoch:02d}/{EPOCHS} | \"\n",
    "          f\"Train: loss {tr_loss:.4f} acc {tr_acc:.4f} auc {tr_auc:.4f} | \"\n",
    "          f\"Val:   loss {va_loss:.4f} acc {va_acc:.4f} auc {va_auc:.4f}\")\n",
    "\n",
    "    # Early stopping & checkpoint\n",
    "    if va_acc > best_val_acc:\n",
    "        best_val_acc = va_acc\n",
    "        no_improve = 0\n",
    "        torch.save({\"model_state\": model.state_dict(),\n",
    "                    \"optimizer_state\": optimizer.state_dict(),\n",
    "                    \"epoch\": epoch}, ckpt_path)\n",
    "    else:\n",
    "        no_improve += 1\n",
    "        if no_improve >= patience:\n",
    "            print(f\"Early stopping triggered at epoch {epoch}.\")\n",
    "            break\n",
    "\n",
    "print(f\"Training finished in {(time.time()-start)/60:.1f} min. Best val acc: {best_val_acc:.4f}\")"
   ],
   "id": "1d58bfe14ce766bf"
  },
  {
   "metadata": {},
   "cell_type": "code",
   "outputs": [],
   "execution_count": null,
   "source": [
    "# Load best checkpoint (optional) and plot curves\n",
    "ckpt = torch.load(ckpt_path, map_location=device)\n",
    "model.load_state_dict(ckpt[\"model_state\"])\n",
    "\n",
    "def plot_curves(h):\n",
    "    fig, axs = plt.subplots(1,3, figsize=(16,4))\n",
    "    axs[0].plot(h[\"train_loss\"], label=\"train\"); axs[0].plot(h[\"val_loss\"], label=\"val\")\n",
    "    axs[0].set_title(\"Loss\"); axs[0].legend()\n",
    "    axs[1].plot(h[\"train_acc\"], label=\"train\"); axs[1].plot(h[\"val_acc\"], label=\"val\")\n",
    "    axs[1].set_title(\"Accuracy\"); axs[1].legend()\n",
    "    axs[2].plot(h[\"train_auc\"], label=\"train\"); axs[2].plot(h[\"val_auc\"], label=\"val\")\n",
    "    axs[2].set_title(\"ROC-AUC\"); axs[2].legend()\n",
    "    plt.show()\n",
    "\n",
    "plot_curves(history)"
   ],
   "id": "255812c0f1fcfdcc"
  },
  {
   "metadata": {
    "ExecuteTime": {
     "end_time": "2025-08-09T12:21:47.551803Z",
     "start_time": "2025-08-09T12:21:16.744174Z"
    },
    "colab": {
     "base_uri": "https://localhost:8080/",
     "height": 777
    },
    "id": "2843d787f59a7656",
    "outputId": "c1687fdf-e570-454f-a1a1-551b2b22120e"
   },
   "cell_type": "code",
   "source": [
    "# Final test evaluation + confusion matrix, precision/recall/F1\n",
    "test_loss, test_acc, test_auc, probs, targets = run_one_epoch(model, test_loader, 1, optimizer=None)\n",
    "print(f\"test pres (first 10): {probs[:10]}\")\n",
    "## TODO: consider using a threshold other than 0.5\n",
    "preds = (probs >= 0.5).astype(int)\n",
    "\n",
    "print(f\"TEST — loss: {test_loss:.4f} | acc: {test_acc:.4f} | auc: {test_auc:.4f}\")\n",
    "\n",
    "cm = confusion_matrix(targets, preds)\n",
    "print(\"Confusion Matrix:\\n\", cm)\n",
    "\n",
    "print(\"\\nClassification Report:\\n\",\n",
    "      classification_report(targets, preds, target_names=test_ds.classes, digits=4))\n",
    "\n",
    "# Quick ROC curve\n",
    "fpr, tpr, _ = roc_curve(targets, probs)\n",
    "plt.figure(figsize=(4,4))\n",
    "plt.plot(fpr, tpr, lw=2)\n",
    "plt.plot([0,1],[0,1],'--')\n",
    "plt.xlabel('FPR'); plt.ylabel('TPR'); plt.title('ROC Curve (Test)')\n",
    "plt.grid(True); plt.show()"
   ],
   "id": "2843d787f59a7656",
   "outputs": [
    {
     "output_type": "stream",
     "name": "stderr",
     "text": [
      "\rEpoch 1/30:   0%|          | 0/10 [00:00<?, ?it/s]/usr/local/lib/python3.11/dist-packages/torch/utils/data/dataloader.py:624: UserWarning: This DataLoader will create 4 worker processes in total. Our suggested max number of worker in current system is 2, which is smaller than what this DataLoader is going to create. Please be aware that excessive worker creation might get DataLoader running slow or even freeze, lower the worker number to avoid potential slowness/freeze if necessary.\n",
      "  warnings.warn(\n",
      "Epoch 1/30: 100%|██████████| 10/10 [00:12<00:00,  1.23s/it]\n"
     ]
    },
    {
     "output_type": "stream",
     "name": "stdout",
     "text": [
      "test pres (first 10): [0.00598065 0.7031069  0.76346755 0.9545062  0.09586402 0.01058689\n",
      " 0.02363181 0.9865509  0.886399   0.030605  ]\n",
      "TEST — loss: 0.5222 | acc: 0.8510 | auc: 0.9451\n",
      "Confusion Matrix:\n",
      " [[148  86]\n",
      " [  7 383]]\n",
      "\n",
      "Classification Report:\n",
      "               precision    recall  f1-score   support\n",
      "\n",
      "      NORMAL     0.9548    0.6325    0.7609       234\n",
      "   PNEUMONIA     0.8166    0.9821    0.8917       390\n",
      "\n",
      "    accuracy                         0.8510       624\n",
      "   macro avg     0.8857    0.8073    0.8263       624\n",
      "weighted avg     0.8685    0.8510    0.8427       624\n",
      "\n"
     ]
    },
    {
     "output_type": "display_data",
     "data": {
      "text/plain": [
       "<Figure size 400x400 with 1 Axes>"
      ],
      "image/png": "[encoded data removed]"
     },
     "metadata": {}
    }
   ],
   "execution_count": 13
  },
  {
   "metadata": {
    "ExecuteTime": {
     "end_time": "2025-08-09T12:21:47.647401Z",
     "start_time": "2025-08-09T12:21:47.639355Z"
    },
    "id": "91f49abba928a490"
   },
   "cell_type": "code",
   "source": [
    "# Inference helper (predict on a few samples)\n",
    "from PIL import Image\n",
    "\n",
    "def predict_image(path, model, tfms=transform):\n",
    "    model.eval()\n",
    "    img = Image.open(path).convert(\"RGB\")\n",
    "    x = tfms(img).unsqueeze(0).to(device)\n",
    "    with torch.no_grad():\n",
    "        logit = model(x)\n",
    "        prob = torch.sigmoid(logit).item()\n",
    "    pred = int(prob >= 0.5)\n",
    "    return prob, pred  # probability of PNEUMONIA, predicted label (0 normal / 1 pneumonia)\n",
    "\n",
    "# Example:\n",
    "# p, yhat = predict_image(os.path.join(test_dir, \"PNEUMONIA\", os.listdir(os.path.join(test_dir,\"PNEUMONIA\"))[0]), model)\n",
    "# print(p, yhat)\n"
   ],
   "id": "91f49abba928a490",
   "outputs": [],
   "execution_count": 14
  },
  {
   "metadata": {
    "ExecuteTime": {
     "end_time": "2025-08-09T12:21:47.665365Z",
     "start_time": "2025-08-09T12:21:47.660465Z"
    },
    "id": "a4a8d86f0508e0a7"
   },
   "cell_type": "code",
   "source": [
    "# TODO: consider adding Visualizations like the R3"
   ],
   "id": "a4a8d86f0508e0a7",
   "outputs": [],
   "execution_count": 15
  }
 ],
 "metadata": {
  "kernelspec": {
   "display_name": "Python 3 (ipykernel)",
   "name": "python3",
   "language": "python"
  },
  "language_info": {
   "codemirror_mode": {
    "name": "ipython",
    "version": 2
   },
   "file_extension": ".py",
   "mimetype": "text/x-python",
   "name": "python",
   "nbconvert_exporter": "python",
   "pygments_lexer": "ipython2",
   "version": "2.7.6"
  },
  "colab": {
   "provenance": [],
   "gpuType": "T4"
  },
  "accelerator": "GPU"
 },
 "nbformat": 4,
 "nbformat_minor": 5
}
