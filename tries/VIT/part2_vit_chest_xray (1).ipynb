{
  "cells": [
    {
      "cell_type": "markdown",
      "id": "775a989b",
      "metadata": {
        "id": "775a989b"
      },
      "source": [
        "\n",
        "# Part 2 — Vision Transformer (ViT) for Chest X‑ray Classification\n",
        "\n",
        "**Dataset choice:** Option 2 — Chest X-ray Pneumonia (pre-split into `train/`, `val/`, `test/`).  \n",
        "**Goal:** Fine-tune a ViT model to classify chest X-rays as **PNEUMONIA** vs **NORMAL** and report metrics & insights.\n",
        "\n",
        "> This notebook follows the project instructions and the ViT paper (Dosovitskiy et al., 2020, *\"An Image is Worth 16x16 Words\"*).\n"
      ]
    },
    {
      "cell_type": "markdown",
      "id": "0ab8a39e",
      "metadata": {
        "id": "0ab8a39e"
      },
      "source": [
        "## 1) Setup & Reproducibility"
      ]
    },
    {
      "cell_type": "code",
      "execution_count": 4,
      "id": "965b19a1",
      "metadata": {
        "colab": {
          "base_uri": "https://localhost:8080/"
        },
        "id": "965b19a1",
        "outputId": "ce3d0c37-3b70-4bfc-a379-c5aa04356c65"
      },
      "outputs": [
        {
          "output_type": "execute_result",
          "data": {
            "text/plain": [
              "device(type='cuda')"
            ]
          },
          "metadata": {},
          "execution_count": 4
        }
      ],
      "source": [
        "\n",
        "import os\n",
        "import random\n",
        "import time\n",
        "import math\n",
        "from pathlib import Path\n",
        "\n",
        "import numpy as np\n",
        "import torch\n",
        "from torch import nn\n",
        "from torch.utils.data import DataLoader\n",
        "from torchvision import datasets, transforms, models\n",
        "\n",
        "# Optional: metrics & plots\n",
        "import matplotlib.pyplot as plt\n",
        "from sklearn.metrics import classification_report, confusion_matrix, roc_auc_score, roc_curve, ConfusionMatrixDisplay\n",
        "\n",
        "torch.backends.cudnn.deterministic = True\n",
        "torch.backends.cudnn.benchmark = False\n",
        "\n",
        "device = torch.device('cuda' if torch.cuda.is_available() else 'cpu')\n",
        "device\n"
      ]
    },
    {
      "cell_type": "markdown",
      "id": "a9720a5c",
      "metadata": {
        "id": "a9720a5c"
      },
      "source": [
        "## 2) Data: paths, transforms, and loaders"
      ]
    },
    {
      "cell_type": "code",
      "execution_count": 5,
      "id": "77f27e9b",
      "metadata": {
        "colab": {
          "base_uri": "https://localhost:8080/"
        },
        "id": "77f27e9b",
        "outputId": "f34051b2-d4e7-450c-fe11-7d8527a05d45"
      },
      "outputs": [
        {
          "output_type": "stream",
          "name": "stdout",
          "text": [
            "Base dir: /kaggle/input/chest-xray-pneumonia/chest_xray\n",
            "Classes: ['NORMAL', 'PNEUMONIA']\n",
            "Base dir: /kaggle/input/chest-xray-pneumonia/chest_xray\n",
            "train_dir: /kaggle/input/chest-xray-pneumonia/chest_xray/train\n",
            "val_dir: /kaggle/input/chest-xray-pneumonia/chest_xray/val\n",
            "test_dir: /kaggle/input/chest-xray-pneumonia/chest_xray/test\n"
          ]
        }
      ],
      "source": [
        "## אופציה א': שימוש ב-kagglehub (כמו בדוגמה שנתתם)\n",
        "try:\n",
        "    import kagglehub\n",
        "    path = kagglehub.dataset_download(\"paultimothymooney/chest-xray-pneumonia\")\n",
        "    base_dir = os.path.join(path, \"chest_xray\")\n",
        "except Exception as e:\n",
        "    print('kagglehub לא זמין/נכשל, עוברים לאופציה ב\\'')\n",
        "    base_dir = \"/path/to/your/chest_xray\"  # עדכנו ידנית אם צריך\n",
        "\n",
        "train_dir = os.path.join(base_dir, 'train')\n",
        "val_dir   = os.path.join(base_dir, 'val')\n",
        "test_dir  = os.path.join(base_dir, 'test')\n",
        "print('Base dir:', base_dir)\n",
        "\n",
        "## קונפיג תמונה\n",
        "IMG_SIZE = 224  # ViT בדרך כלל מאומן/מותאם סביב 224/256/384\n",
        "\n",
        "## Augmentations \"עדינות\" שמתאימות לרדיולוגיה (לא להפוך אופקי/אנכי דרסטי)\n",
        "train_tfms = transforms.Compose([\n",
        "    transforms.Grayscale(num_output_channels=3),  # הפיכת חד-ערוצי ל-RGB 3 ערוצים\n",
        "    transforms.Resize((IMG_SIZE, IMG_SIZE)),\n",
        "    transforms.RandomApply([transforms.RandomRotation(degrees=10)], p=0.5),\n",
        "    transforms.RandomApply([transforms.RandomAffine(degrees=0, translate=(0.05,0.05))], p=0.5),\n",
        "    transforms.ToTensor(),\n",
        "    transforms.Normalize(mean=[0.5,0.5,0.5], std=[0.5,0.5,0.5]),  # טווח [-1,1]\n",
        "])\n",
        "\n",
        "eval_tfms = transforms.Compose([\n",
        "    transforms.Grayscale(num_output_channels=3),\n",
        "    transforms.Resize((IMG_SIZE, IMG_SIZE)),\n",
        "    transforms.ToTensor(),\n",
        "    transforms.Normalize(mean=[0.5,0.5,0.5], std=[0.5,0.5,0.5]),\n",
        "])\n",
        "\n",
        "train_ds = datasets.ImageFolder(train_dir, transform=train_tfms)\n",
        "val_ds   = datasets.ImageFolder(val_dir,   transform=eval_tfms)\n",
        "test_ds  = datasets.ImageFolder(test_dir,  transform=eval_tfms)\n",
        "\n",
        "print('Classes:', train_ds.classes)\n",
        "NUM_CLASSES = len(train_ds.classes)\n",
        "\n",
        "train_dir = os.path.join(base_dir, 'train') if base_dir else None\n",
        "val_dir   = os.path.join(base_dir, 'val') if base_dir else None\n",
        "test_dir  = os.path.join(base_dir, 'test') if base_dir else None\n",
        "\n",
        "print(\"Base dir:\", base_dir)\n",
        "print(\"train_dir:\", train_dir)\n",
        "print(\"val_dir:\", val_dir)\n",
        "print(\"test_dir:\", test_dir)\n"
      ]
    },
    {
      "cell_type": "code",
      "execution_count": 6,
      "id": "b64954a4",
      "metadata": {
        "colab": {
          "base_uri": "https://localhost:8080/"
        },
        "id": "b64954a4",
        "outputId": "a8606a81-e87f-46d7-9957-b0a347962b5a"
      },
      "outputs": [
        {
          "output_type": "stream",
          "name": "stdout",
          "text": [
            "Classes: ['NORMAL', 'PNEUMONIA'] | num_classes: 2\n"
          ]
        },
        {
          "output_type": "execute_result",
          "data": {
            "text/plain": [
              "(5216, 16, 624)"
            ]
          },
          "metadata": {},
          "execution_count": 6
        }
      ],
      "source": [
        "\n",
        "# Transforms\n",
        "# Notes:\n",
        "# - Chest X-rays are grayscale; ViT expects 3 channels (ImageNet). We convert to 3 channels.\n",
        "# - Horizontal flip is typically avoided for medical images (left/right semantics), so we skip it.\n",
        "# - Mild augmentation: RandomResizedCrop and small rotation.\n",
        "# - Normalize with ImageNet stats (to match ViT pretraining).\n",
        "\n",
        "IMG_SIZE = 224\n",
        "train_tfms = transforms.Compose([\n",
        "    transforms.Grayscale(num_output_channels=3),\n",
        "    transforms.RandomResizedCrop(IMG_SIZE, scale=(0.9, 1.0)),\n",
        "    transforms.RandomRotation(degrees=5),\n",
        "    transforms.ToTensor(),\n",
        "    transforms.Normalize(mean=[0.485, 0.456, 0.406],\n",
        "                         std=[0.229, 0.224, 0.225]),\n",
        "])\n",
        "\n",
        "eval_tfms = transforms.Compose([\n",
        "    transforms.Grayscale(num_output_channels=3),\n",
        "    transforms.Resize(256),\n",
        "    transforms.CenterCrop(IMG_SIZE),\n",
        "    transforms.ToTensor(),\n",
        "    transforms.Normalize(mean=[0.485, 0.456, 0.406],\n",
        "                         std=[0.229, 0.224, 0.225]),\n",
        "])\n",
        "\n",
        "assert train_dir and val_dir and test_dir, \"Please set base_dir so train/val/test dirs are valid.\"\n",
        "\n",
        "train_ds = datasets.ImageFolder(train_dir, transform=train_tfms)\n",
        "val_ds   = datasets.ImageFolder(val_dir,   transform=eval_tfms)\n",
        "test_ds  = datasets.ImageFolder(test_dir,  transform=eval_tfms)\n",
        "\n",
        "CLASSES = train_ds.classes\n",
        "num_classes = len(CLASSES)\n",
        "print(\"Classes:\", CLASSES, \"| num_classes:\", num_classes)\n",
        "\n",
        "BATCH_SIZE = 32\n",
        "NUM_WORKERS = min(4, os.cpu_count() or 0)\n",
        "\n",
        "train_loader = DataLoader(train_ds, batch_size=BATCH_SIZE, shuffle=True,  num_workers=NUM_WORKERS, pin_memory=True)\n",
        "val_loader   = DataLoader(val_ds,   batch_size=BATCH_SIZE, shuffle=False, num_workers=NUM_WORKERS, pin_memory=True)\n",
        "test_loader  = DataLoader(test_ds,  batch_size=BATCH_SIZE, shuffle=False, num_workers=NUM_WORKERS, pin_memory=True)\n",
        "len(train_ds), len(val_ds), len(test_ds)\n"
      ]
    },
    {
      "cell_type": "markdown",
      "id": "86d37e95",
      "metadata": {
        "id": "86d37e95"
      },
      "source": [
        "## 3) Model: ViT‑B/16 (ImageNet pretrained)"
      ]
    },
    {
      "cell_type": "code",
      "execution_count": 7,
      "id": "99518edf",
      "metadata": {
        "colab": {
          "base_uri": "https://localhost:8080/"
        },
        "id": "99518edf",
        "outputId": "ade4fc86-6b4e-44b9-f6f7-4428613286a5"
      },
      "outputs": [
        {
          "output_type": "stream",
          "name": "stderr",
          "text": [
            "Downloading: \"https://download.pytorch.org/models/vit_b_16-c867db91.pth\" to /root/.cache/torch/hub/checkpoints/vit_b_16-c867db91.pth\n",
            "100%|██████████| 330M/330M [00:02<00:00, 154MB/s]\n"
          ]
        },
        {
          "output_type": "execute_result",
          "data": {
            "text/plain": [
              "85.800194"
            ]
          },
          "metadata": {},
          "execution_count": 7
        }
      ],
      "source": [
        "\n",
        "# Using torchvision's ViT-B/16 (patch size 16) pretrained on ImageNet-1k\n",
        "vit = models.vit_b_16(weights=models.ViT_B_16_Weights.IMAGENET1K_V1)\n",
        "in_features = vit.heads.head.in_features\n",
        "vit.heads.head = nn.Linear(in_features, num_classes)  # replace classification head\n",
        "vit = vit.to(device)\n",
        "\n",
        "# Optionally, freeze the backbone for a warmup phase (set WARMUP_EPOCHS > 0)\n",
        "for p in vit.parameters():\n",
        "    p.requires_grad = True  # full fine-tuning by default\n",
        "\n",
        "sum(p.numel() for p in vit.parameters())/1e6\n"
      ]
    },
    {
      "cell_type": "markdown",
      "id": "a05076dc",
      "metadata": {
        "id": "a05076dc"
      },
      "source": [
        "## 4) Loss, Optimizer, Scheduler, and Mixed Precision"
      ]
    },
    {
      "cell_type": "code",
      "execution_count": 8,
      "id": "927e2f08",
      "metadata": {
        "colab": {
          "base_uri": "https://localhost:8080/"
        },
        "id": "927e2f08",
        "outputId": "43aa6a9d-e62b-4990-d89e-f77d9352a83f"
      },
      "outputs": [
        {
          "output_type": "stream",
          "name": "stderr",
          "text": [
            "/tmp/ipython-input-3703996428.py:10: FutureWarning: `torch.cuda.amp.GradScaler(args...)` is deprecated. Please use `torch.amp.GradScaler('cuda', args...)` instead.\n",
            "  scaler = torch.cuda.amp.GradScaler(enabled=torch.cuda.is_available())\n"
          ]
        }
      ],
      "source": [
        "\n",
        "LR = 3e-5              # small LR for fine-tuning\n",
        "WEIGHT_DECAY = 0.05\n",
        "EPOCHS = 10\n",
        "WARMUP_EPOCHS = 0      # set >0 to freeze backbone initially\n",
        "\n",
        "criterion = nn.CrossEntropyLoss()\n",
        "optimizer = torch.optim.AdamW(vit.parameters(), lr=LR, weight_decay=WEIGHT_DECAY)\n",
        "lr_scheduler = torch.optim.lr_scheduler.CosineAnnealingLR(optimizer, T_max=EPOCHS)\n",
        "\n",
        "scaler = torch.cuda.amp.GradScaler(enabled=torch.cuda.is_available())\n"
      ]
    },
    {
      "cell_type": "markdown",
      "id": "eabf2a6d",
      "metadata": {
        "id": "eabf2a6d"
      },
      "source": [
        "## 5) Train & Validate"
      ]
    },
    {
      "cell_type": "code",
      "execution_count": 9,
      "id": "4e310520",
      "metadata": {
        "colab": {
          "base_uri": "https://localhost:8080/"
        },
        "id": "4e310520",
        "outputId": "660cdf09-59e2-467f-b2b4-ff8ef463761d"
      },
      "outputs": [
        {
          "output_type": "stream",
          "name": "stderr",
          "text": [
            "/tmp/ipython-input-3113233031.py:20: FutureWarning: `torch.cuda.amp.autocast(args...)` is deprecated. Please use `torch.amp.autocast('cuda', args...)` instead.\n",
            "  with torch.cuda.amp.autocast(enabled=torch.cuda.is_available()):\n"
          ]
        },
        {
          "output_type": "stream",
          "name": "stdout",
          "text": [
            "Epoch 01/10 | train_loss=0.1374 acc=0.9475 | val_loss=1.9434 acc=0.5625 | best_val_acc=0.5625 | 170.9s\n",
            "Epoch 02/10 | train_loss=0.0629 acc=0.9772 | val_loss=1.4279 acc=0.5625 | best_val_acc=0.5625 | 156.6s\n",
            "Epoch 03/10 | train_loss=0.0468 acc=0.9839 | val_loss=0.8545 acc=0.5625 | best_val_acc=0.5625 | 155.6s\n",
            "Epoch 04/10 | train_loss=0.0350 acc=0.9868 | val_loss=2.1939 acc=0.5625 | best_val_acc=0.5625 | 154.3s\n",
            "Epoch 05/10 | train_loss=0.0281 acc=0.9914 | val_loss=2.1801 acc=0.5625 | best_val_acc=0.5625 | 149.7s\n",
            "Epoch 06/10 | train_loss=0.0151 acc=0.9952 | val_loss=0.7469 acc=0.6875 | best_val_acc=0.6875 | 153.4s\n",
            "Epoch 07/10 | train_loss=0.0119 acc=0.9958 | val_loss=1.0248 acc=0.7500 | best_val_acc=0.7500 | 156.2s\n",
            "Epoch 08/10 | train_loss=0.0093 acc=0.9979 | val_loss=1.5362 acc=0.5625 | best_val_acc=0.7500 | 151.5s\n",
            "Epoch 09/10 | train_loss=0.0047 acc=0.9983 | val_loss=1.4398 acc=0.5625 | best_val_acc=0.7500 | 154.9s\n",
            "Epoch 10/10 | train_loss=0.0032 acc=0.9990 | val_loss=1.4535 acc=0.5625 | best_val_acc=0.7500 | 153.2s\n"
          ]
        }
      ],
      "source": [
        "\n",
        "def run_epoch(model, loader, train=True):\n",
        "    model.train(train)\n",
        "    total_loss = 0.0\n",
        "    correct = 0\n",
        "    total = 0\n",
        "\n",
        "    if train:\n",
        "        context = torch.enable_grad()\n",
        "    else:\n",
        "        context = torch.no_grad()\n",
        "\n",
        "    with context:\n",
        "        for images, labels in loader:\n",
        "            images = images.to(device, non_blocking=True)\n",
        "            labels = labels.to(device, non_blocking=True)\n",
        "\n",
        "            if train:\n",
        "                optimizer.zero_grad(set_to_none=True)\n",
        "\n",
        "            with torch.cuda.amp.autocast(enabled=torch.cuda.is_available()):\n",
        "                logits = model(images)\n",
        "                loss = criterion(logits, labels)\n",
        "\n",
        "            if train:\n",
        "                scaler.scale(loss).backward()\n",
        "                scaler.step(optimizer)\n",
        "                scaler.update()\n",
        "\n",
        "            total_loss += loss.item() * images.size(0)\n",
        "            preds = logits.argmax(dim=1)\n",
        "            correct += (preds == labels).sum().item()\n",
        "            total += labels.size(0)\n",
        "\n",
        "    avg_loss = total_loss / max(total, 1)\n",
        "    acc = correct / max(total, 1)\n",
        "    return avg_loss, acc\n",
        "\n",
        "best_val_acc = 0.0\n",
        "best_path = \"vit_chest_xray_best.pt\"\n",
        "\n",
        "for epoch in range(1, EPOCHS + 1):\n",
        "    t0 = time.time()\n",
        "\n",
        "    train_loss, train_acc = run_epoch(vit, train_loader, train=True)\n",
        "    val_loss, val_acc     = run_epoch(vit, val_loader,   train=False)\n",
        "\n",
        "    lr_scheduler.step()\n",
        "\n",
        "    if val_acc > best_val_acc:\n",
        "        best_val_acc = val_acc\n",
        "        torch.save({'model': vit.state_dict(),\n",
        "                    'classes': CLASSES,\n",
        "                    'epoch': epoch}, best_path)\n",
        "\n",
        "    dt = time.time() - t0\n",
        "    print(f\"Epoch {epoch:02d}/{EPOCHS} | \"\n",
        "          f\"train_loss={train_loss:.4f} acc={train_acc:.4f} | \"\n",
        "          f\"val_loss={val_loss:.4f} acc={val_acc:.4f} | \"\n",
        "          f\"best_val_acc={best_val_acc:.4f} | {dt:.1f}s\")\n"
      ]
    },
    {
      "cell_type": "markdown",
      "id": "4b52c0dd",
      "metadata": {
        "id": "4b52c0dd"
      },
      "source": [
        "## 6) Evaluate on Test Set"
      ]
    },
    {
      "cell_type": "code",
      "execution_count": 10,
      "id": "ca7a3e00",
      "metadata": {
        "colab": {
          "base_uri": "https://localhost:8080/"
        },
        "id": "ca7a3e00",
        "outputId": "add21f5c-a52d-43dd-c106-58ad14e21fd9"
      },
      "outputs": [
        {
          "output_type": "stream",
          "name": "stdout",
          "text": [
            "Classification report (per-class precision/recall/F1):\n",
            "              precision    recall  f1-score   support\n",
            "\n",
            "      NORMAL     1.0000    0.2521    0.4027       234\n",
            "   PNEUMONIA     0.6903    1.0000    0.8168       390\n",
            "\n",
            "    accuracy                         0.7196       624\n",
            "   macro avg     0.8451    0.6261    0.6097       624\n",
            "weighted avg     0.8064    0.7196    0.6615       624\n",
            "\n",
            "Test Accuracy: 0.7196\n",
            "ROC-AUC: 0.9736\n"
          ]
        }
      ],
      "source": [
        "\n",
        "# Load best checkpoint\n",
        "ckpt = torch.load(\"vit_chest_xray_best.pt\", map_location=device)\n",
        "vit.load_state_dict(ckpt['model'])\n",
        "vit.eval()\n",
        "\n",
        "all_labels = []\n",
        "all_probs  = []\n",
        "all_preds  = []\n",
        "\n",
        "with torch.no_grad():\n",
        "    for images, labels in test_loader:\n",
        "        images = images.to(device, non_blocking=True)\n",
        "        logits = vit(images)\n",
        "        probs  = torch.softmax(logits, dim=1).cpu().numpy()\n",
        "        preds  = logits.argmax(dim=1).cpu().numpy()\n",
        "\n",
        "        all_labels.extend(labels.numpy().tolist())\n",
        "        all_probs.extend(probs.tolist())\n",
        "        all_preds.extend(preds.tolist())\n",
        "\n",
        "all_labels = np.array(all_labels)\n",
        "all_probs  = np.array(all_probs)\n",
        "all_preds  = np.array(all_preds)\n",
        "\n",
        "# Metrics\n",
        "print(\"Classification report (per-class precision/recall/F1):\")\n",
        "print(classification_report(all_labels, all_preds, target_names=CLASSES, digits=4))\n",
        "\n",
        "acc = (all_preds == all_labels).mean()\n",
        "print(f\"Test Accuracy: {acc:.4f}\")\n",
        "\n",
        "# ROC-AUC (for binary setting). If multi-class, compute macro-average.\n",
        "if len(CLASSES) == 2:\n",
        "    pos_index = 1  # assume class order [NORMAL, PNEUMONIA]; adjust if needed\n",
        "    try:\n",
        "        auc = roc_auc_score(all_labels, all_probs[:, pos_index])\n",
        "        print(f\"ROC-AUC: {auc:.4f}\")\n",
        "    except Exception as e:\n",
        "        print(\"Could not compute ROC-AUC:\", e)\n"
      ]
    },
    {
      "cell_type": "markdown",
      "id": "4ddc9723",
      "metadata": {
        "id": "4ddc9723"
      },
      "source": [
        "## 7) Plots: Confusion Matrix and ROC Curve"
      ]
    },
    {
      "cell_type": "code",
      "execution_count": 11,
      "id": "c27ce99f",
      "metadata": {
        "colab": {
          "base_uri": "https://localhost:8080/",
          "height": 487
        },
        "id": "c27ce99f",
        "outputId": "c9bc77f8-6dd3-4798-860d-e9328c4b93b9"
      },
      "outputs": [
        {
          "output_type": "display_data",
          "data": {
            "text/plain": [
              "<Figure size 500x500 with 1 Axes>"
            ],
            "image/png": "[encoded data removed]"
          },
          "metadata": {}
        }
      ],
      "source": [
        "\n",
        "# Confusion Matrix\n",
        "cm = confusion_matrix(all_labels, all_preds)\n",
        "disp = ConfusionMatrixDisplay(confusion_matrix=cm, display_labels=CLASSES)\n",
        "fig_cm, ax_cm = plt.subplots(figsize=(5,5))\n",
        "disp.plot(ax=ax_cm, values_format='d', colorbar=False)\n",
        "ax_cm.set_title(\"Confusion Matrix (Test)\")\n",
        "plt.show()\n"
      ]
    },
    {
      "cell_type": "code",
      "execution_count": 12,
      "id": "cf9d7de9",
      "metadata": {
        "colab": {
          "base_uri": "https://localhost:8080/",
          "height": 487
        },
        "id": "cf9d7de9",
        "outputId": "c5101cb4-c8ac-4513-fa86-7dea589c14d2"
      },
      "outputs": [
        {
          "output_type": "display_data",
          "data": {
            "text/plain": [
              "<Figure size 500x500 with 1 Axes>"
            ],
            "image/png": "[encoded data removed]"
          },
          "metadata": {}
        }
      ],
      "source": [
        "\n",
        "# ROC Curve (binary only)\n",
        "if len(CLASSES) == 2:\n",
        "    pos_index = 1\n",
        "    try:\n",
        "        fpr, tpr, _ = roc_curve(all_labels, all_probs[:, pos_index])\n",
        "        fig_roc, ax_roc = plt.subplots(figsize=(5,5))\n",
        "        ax_roc.plot(fpr, tpr, label=\"ROC curve\")\n",
        "        ax_roc.plot([0,1],[0,1],'--', label=\"Chance\")\n",
        "        ax_roc.set_xlabel(\"False Positive Rate\")\n",
        "        ax_roc.set_ylabel(\"True Positive Rate\")\n",
        "        ax_roc.set_title(\"ROC Curve (Test)\")\n",
        "        ax_roc.legend()\n",
        "        plt.show()\n",
        "    except Exception as e:\n",
        "        print(\"Could not compute ROC curve:\", e)\n",
        "else:\n",
        "    print(\"ROC curve is defined for binary classification; skipped.\")\n"
      ]
    },
    {
      "cell_type": "markdown",
      "id": "688c4656",
      "metadata": {
        "id": "688c4656"
      },
      "source": [
        "## 8) Inference Helper"
      ]
    },
    {
      "cell_type": "code",
      "execution_count": 13,
      "id": "c6eb2006",
      "metadata": {
        "id": "c6eb2006"
      },
      "outputs": [],
      "source": [
        "\n",
        "from PIL import Image\n",
        "\n",
        "def predict_image(path):\n",
        "    img = Image.open(path).convert(\"L\")  # grayscale\n",
        "    img = eval_tfms(img)                 # same eval transforms\n",
        "    img = img.unsqueeze(0).to(device)\n",
        "    vit.eval()\n",
        "    with torch.no_grad():\n",
        "        logits = vit(img)\n",
        "        probs = torch.softmax(logits, dim=1).cpu().numpy().squeeze()\n",
        "    pred_idx = int(probs.argmax())\n",
        "    return CLASSES[pred_idx], probs\n",
        "\n",
        "# Example usage:\n",
        "# pred, probs = predict_image(\"/path/to/image.jpeg\")\n",
        "# print(pred, probs)\n"
      ]
    },
    {
      "cell_type": "markdown",
      "id": "af726b0b",
      "metadata": {
        "id": "af726b0b"
      },
      "source": [
        "\n",
        "## 9) Notes linking to the ViT paper\n",
        "\n",
        "- **Patch size 16×16** (ViT‑B/16) and **ImageNet pretraining** are consistent with Dosovitskiy et al. (2020).  \n",
        "- We fine-tune the entire network (can also try a warmup with frozen backbone).  \n",
        "- Input normalization uses ImageNet statistics to match pretraining.  \n",
        "- You may extend experiments by varying patch size (e.g., `vit_b_32`) or data augmentation strength and compare results.\n"
      ]
    },
    {
      "cell_type": "markdown",
      "id": "1fc5edd1",
      "metadata": {
        "id": "1fc5edd1"
      },
      "source": [
        "## 10) Save artifacts & configuration"
      ]
    },
    {
      "cell_type": "code",
      "execution_count": 14,
      "id": "d584f0e9",
      "metadata": {
        "colab": {
          "base_uri": "https://localhost:8080/"
        },
        "id": "d584f0e9",
        "outputId": "76d7f25a-a224-4142-f50f-c25effbabd8b"
      },
      "outputs": [
        {
          "output_type": "stream",
          "name": "stdout",
          "text": [
            "Saved: vit_chest_xray_best.pt run_summary_vit.json\n"
          ]
        }
      ],
      "source": [
        "\n",
        "import json\n",
        "results = {\n",
        "    \"classes\": CLASSES,\n",
        "    \"test_accuracy\": float(acc),\n",
        "    \"best_val_acc\": float(best_val_acc),\n",
        "    \"epochs\": EPOCHS,\n",
        "    \"batch_size\": BATCH_SIZE,\n",
        "    \"img_size\": IMG_SIZE,\n",
        "    \"lr\": LR,\n",
        "    \"weight_decay\": WEIGHT_DECAY\n",
        "}\n",
        "with open(\"run_summary_vit.json\", \"w\") as f:\n",
        "    json.dump(results, f, indent=2)\n",
        "\n",
        "print(\"Saved:\", \"vit_chest_xray_best.pt\", \"run_summary_vit.json\")\n"
      ]
    },
    {
      "cell_type": "code",
      "source": [],
      "metadata": {
        "id": "Pamy23htacA2"
      },
      "id": "Pamy23htacA2",
      "execution_count": null,
      "outputs": []
    }
  ],
  "metadata": {
    "colab": {
      "provenance": [],
      "gpuType": "T4"
    },
    "language_info": {
      "name": "python"
    },
    "kernelspec": {
      "name": "python3",
      "display_name": "Python 3"
    },
    "accelerator": "GPU"
  },
  "nbformat": 4,
  "nbformat_minor": 5
}