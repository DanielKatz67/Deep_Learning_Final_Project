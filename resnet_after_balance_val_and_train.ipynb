{
 "cells": [
  {
   "metadata": {
    "colab": {
     "base_uri": "https://localhost:8080/"
    },
    "id": "b703f1837ead424",
    "outputId": "961b388c-6052-45c6-8ed1-d385585df273"
   },
   "cell_type": "code",
   "source": [
    "# Setup (PyTorch, paths, device, seeds)\n",
    "import os, random, math, time\n",
    "import numpy as np\n",
    "import matplotlib.pyplot as plt\n",
    "import kagglehub\n",
    "import torch\n",
    "import torch.nn as nn\n",
    "import shutil\n",
    "import tempfile\n",
    "from PIL import Image\n",
    "from torch.optim import AdamW\n",
    "from torch.optim.lr_scheduler import ReduceLROnPlateau\n",
    "from torch.utils.data import DataLoader\n",
    "from torchvision import datasets, transforms ,models\n",
    "from tqdm import tqdm\n",
    "from sklearn.model_selection import train_test_split\n",
    "from contextlib import nullcontext\n",
    "from sklearn.metrics import confusion_matrix, classification_report, roc_auc_score, roc_curve, precision_recall_curve, average_precision_score"
   ],
   "id": "b703f1837ead424",
   "outputs": [],
   "execution_count": null
  },
  {
   "metadata": {},
   "cell_type": "code",
   "source": [
    "def seed_all(seed=42):\n",
    "    random.seed(seed)\n",
    "    np.random.seed(seed)\n",
    "    torch.manual_seed(seed)\n",
    "    torch.cuda.manual_seed_all(seed)\n",
    "    torch.backends.cudnn.deterministic = True\n",
    "    torch.backends.cudnn.benchmark = False\n",
    "\n",
    "seed_all(42)"
   ],
   "id": "2f8779a4b3e56be4",
   "outputs": [],
   "execution_count": null
  },
  {
   "metadata": {
    "id": "afc4e9f146f60171"
   },
   "cell_type": "code",
   "source": [
    "path = kagglehub.dataset_download(\"paultimothymooney/chest-xray-pneumonia\")\n",
    "# Use the returned path to set base_dir correctly\n",
    "base_dir = os.path.join(path, \"chest_xray\")\n",
    "train_dir = os.path.join(base_dir, 'train')\n",
    "val_dir   = os.path.join(base_dir, 'val')\n",
    "test_dir  = os.path.join(base_dir, 'test')"
   ],
   "id": "afc4e9f146f60171",
   "outputs": [],
   "execution_count": null
  },
  {
   "metadata": {
    "colab": {
     "base_uri": "https://localhost:8080/"
    },
    "id": "fbaee290adb9096e",
    "outputId": "6c5cf39d-3e23-4adb-8086-4289c881c034",
    "ExecuteTime": {
     "end_time": "2025-08-16T09:54:21.222757Z",
     "start_time": "2025-08-16T09:54:21.218314Z"
    }
   },
   "cell_type": "code",
   "source": [
    "print(\"Train dir:\", train_dir)\n",
    "print(\"Val dir:\", val_dir)\n",
    "print(\"Test dir:\", test_dir)\n",
    "\n",
    "print(\"Train dir contents:\", os.listdir(train_dir))\n",
    "print(\"Val dir contents:\", os.listdir(val_dir))\n",
    "print(\"Test dir contents:\", os.listdir(test_dir))"
   ],
   "id": "fbaee290adb9096e",
   "outputs": [
    {
     "name": "stdout",
     "output_type": "stream",
     "text": [
      "Train dir: /Users/daniel/.cache/kagglehub/datasets/paultimothymooney/chest-xray-pneumonia/versions/2/chest_xray/train\n",
      "Val dir: /Users/daniel/.cache/kagglehub/datasets/paultimothymooney/chest-xray-pneumonia/versions/2/chest_xray/val\n",
      "Test dir: /Users/daniel/.cache/kagglehub/datasets/paultimothymooney/chest-xray-pneumonia/versions/2/chest_xray/test\n",
      "Train dir contents: ['.DS_Store', 'PNEUMONIA', 'NORMAL']\n",
      "Val dir contents: ['.DS_Store', 'PNEUMONIA', 'NORMAL']\n",
      "Test dir contents: ['.DS_Store', 'PNEUMONIA', 'NORMAL']\n"
     ]
    }
   ],
   "execution_count": 5
  },
  {
   "metadata": {
    "ExecuteTime": {
     "end_time": "2025-08-16T09:54:23.468076Z",
     "start_time": "2025-08-16T09:54:23.464421Z"
    }
   },
   "cell_type": "code",
   "source": [
    "def plot_distribution_from_folder(base_dir, splits, class_names, title_prefix):\n",
    "    for split in splits:\n",
    "        counts = []\n",
    "        for cls in class_names:\n",
    "            folder = os.path.join(base_dir, split, cls)\n",
    "            counts.append(len(os.listdir(folder)))\n",
    "        plt.figure(figsize=(6,4))\n",
    "        plt.bar(class_names, counts)\n",
    "        plt.title(f\"{title_prefix} {split} set class counts\")\n",
    "        plt.ylabel(\"Count\")\n",
    "        plt.tight_layout()\n",
    "        plt.show()"
   ],
   "id": "29faa6a32f3f0b34",
   "outputs": [],
   "execution_count": 6
  },
  {
   "metadata": {
    "ExecuteTime": {
     "end_time": "2025-08-16T09:54:30.279796Z",
     "start_time": "2025-08-16T09:54:27.989839Z"
    }
   },
   "cell_type": "code",
   "source": [
    "# Print image counts before shuffle/split\n",
    "print('Before split:')\n",
    "for split in ['train', 'val']:\n",
    "    for cls in ['NORMAL', 'PNEUMONIA']:\n",
    "        folder = os.path.join(base_dir, split, cls)\n",
    "        print(f\"{split}/{cls}: {len(os.listdir(folder))}\")\n",
    "\n",
    "class_names = ['NORMAL', 'PNEUMONIA']\n",
    "# Plot distribution before split\n",
    "plot_distribution_from_folder(base_dir, ['train', 'val'], class_names, \"Before split\")\n",
    "\n",
    "# Combine all images from train and val only (do not touch test)\n",
    "all_data = []\n",
    "for split in ['train', 'val']:\n",
    "    for cls in ['NORMAL', 'PNEUMONIA']:\n",
    "        folder = os.path.join(base_dir, split, cls)\n",
    "        for fname in os.listdir(folder):\n",
    "            all_data.append((os.path.join(folder, fname), cls))\n",
    "\n",
    "# Stratified split: 85% train, 15% val\n",
    "paths, labels = zip(*all_data)\n",
    "train_paths, val_paths, train_labels, val_labels = train_test_split(\n",
    "    paths, labels, test_size=0.15, stratify=labels, random_state=42)\n",
    "\n",
    "def copy_files(file_paths, labels, dest_dir):\n",
    "    for path, label in zip(file_paths, labels):\n",
    "        dest = os.path.join(dest_dir, label)\n",
    "        os.makedirs(dest, exist_ok=True)\n",
    "        shutil.copy(path, dest)\n",
    "\n",
    "# Set your new base_dir for split (must be writable, e.g., /kaggle/working or local path)\n",
    "# Use /kaggle/working if running on Kaggle, or a local writable path otherwise\n",
    "\n",
    "# Use a writable temp directory for the split\n",
    "new_base = os.path.join(tempfile.gettempdir(), \"chest_xray_split\")\n",
    "if os.path.exists(new_base):\n",
    "    shutil.rmtree(new_base)\n",
    "copy_files(train_paths, train_labels, os.path.join(new_base, 'train'))\n",
    "copy_files(val_paths, val_labels, os.path.join(new_base, 'val'))\n",
    "\n",
    "# Print image counts after shuffle/split\n",
    "print('After split:')\n",
    "for split in ['train', 'val']:\n",
    "    for cls in ['NORMAL', 'PNEUMONIA']:\n",
    "        folder = os.path.join(new_base, split, cls)\n",
    "        print(f\"{split}/{cls}: {len(os.listdir(folder))}\")\n",
    "\n",
    "# Plot distribution after split\n",
    "plot_distribution_from_folder(new_base, ['train', 'val'], class_names, \"After split:\")\n",
    "\n",
    "# Update directory variables to point to the new split\n",
    "train_dir = os.path.join(new_base, 'train')\n",
    "val_dir   = os.path.join(new_base, 'val')\n",
    "# test_dir remains unchanged"
   ],
   "id": "8d93d2451787e13e",
   "outputs": [
    {
     "name": "stdout",
     "output_type": "stream",
     "text": [
      "Before split:\n",
      "train/NORMAL: 1341\n",
      "train/PNEUMONIA: 3875\n",
      "val/NORMAL: 8\n",
      "val/PNEUMONIA: 8\n"
     ]
    },
    {
     "data": {
      "text/plain": [
       "<Figure size 600x400 with 1 Axes>"
      ],
      "image/png": "[encoded data removed]"
     },
     "metadata": {},
     "output_type": "display_data"
    },
    {
     "data": {
      "text/plain": [
       "<Figure size 600x400 with 1 Axes>"
      ],
      "image/png": "[encoded data removed]"
     },
     "metadata": {},
     "output_type": "display_data"
    },
    {
     "name": "stdout",
     "output_type": "stream",
     "text": [
      "After split:\n",
      "train/NORMAL: 1147\n",
      "train/PNEUMONIA: 3300\n",
      "val/NORMAL: 202\n",
      "val/PNEUMONIA: 583\n"
     ]
    },
    {
     "data": {
      "text/plain": [
       "<Figure size 600x400 with 1 Axes>"
      ],
      "image/png": "[encoded data removed]"
     },
     "metadata": {},
     "output_type": "display_data"
    },
    {
     "data": {
      "text/plain": [
       "<Figure size 600x400 with 1 Axes>"
      ],
      "image/png": "[encoded data removed]"
     },
     "metadata": {},
     "output_type": "display_data"
    }
   ],
   "execution_count": 7
  },
  {
   "metadata": {
    "colab": {
     "base_uri": "https://localhost:8080/"
    },
    "id": "99a268b479a53658",
    "outputId": "4049d57e-781b-417a-9061-c51c599985ce",
    "ExecuteTime": {
     "end_time": "2025-08-16T09:54:34.495060Z",
     "start_time": "2025-08-16T09:54:34.474136Z"
    }
   },
   "cell_type": "code",
   "source": [
    "# Datasets, DataLoaders, class weights (for imbalance)\n",
    "IMG_SIZE = 224\n",
    "BATCH_SIZE = 64\n",
    "NUM_WORKERS = 4\n",
    "\n",
    "normalize = transforms.Normalize(mean=[0.485, 0.456, 0.406], std =[0.229, 0.224, 0.225])\n",
    "\n",
    "train_tfms = transforms.Compose([\n",
    "    transforms.Grayscale(num_output_channels=3),\n",
    "    transforms.Resize((256, 256)),\n",
    "    transforms.RandomResizedCrop(IMG_SIZE, scale=(0.9, 1.0)),\n",
    "    transforms.RandomHorizontalFlip(p=0.5),\n",
    "    transforms.RandomRotation(10),\n",
    "    transforms.ToTensor(),\n",
    "    normalize,\n",
    "])\n",
    "\n",
    "eval_tfms = transforms.Compose([\n",
    "    transforms.Grayscale(num_output_channels=3),\n",
    "    transforms.Resize((256, 256)),\n",
    "    transforms.CenterCrop(IMG_SIZE),\n",
    "    transforms.ToTensor(),\n",
    "    normalize,\n",
    "])\n",
    "\n",
    "train_ds = datasets.ImageFolder(train_dir, transform=train_tfms)\n",
    "val_ds   = datasets.ImageFolder(val_dir,   transform=eval_tfms)\n",
    "test_ds  = datasets.ImageFolder(test_dir,  transform=eval_tfms)\n",
    "\n",
    "print(\"Classes:\", train_ds.classes, \"=>\", train_ds.class_to_idx)"
   ],
   "id": "99a268b479a53658",
   "outputs": [
    {
     "name": "stdout",
     "output_type": "stream",
     "text": [
      "Classes: ['NORMAL', 'PNEUMONIA'] => {'NORMAL': 0, 'PNEUMONIA': 1}\n"
     ]
    }
   ],
   "execution_count": 8
  },
  {
   "metadata": {
    "id": "de02151071936a6e",
    "ExecuteTime": {
     "end_time": "2025-08-16T09:54:38.453849Z",
     "start_time": "2025-08-16T09:54:38.450052Z"
    }
   },
   "cell_type": "code",
   "source": [
    "# CNN model as a class (__init__ + forward)\n",
    "class PneumoCNN(nn.Module):\n",
    "    def __init__(self, dropout_p=0.2):\n",
    "        super(PneumoCNN, self).__init__()\n",
    "        m = models.resnet18(weights=models.ResNet18_Weights.IMAGENET1K_V1)\n",
    "        m.fc = nn.Sequential(\n",
    "            nn.Dropout(dropout_p),\n",
    "            nn.Linear(m.fc.in_features, 1)\n",
    "        )\n",
    "        self.net = m\n",
    "\n",
    "    def forward(self, x):\n",
    "        return self.net(x).squeeze(1)  # [B]"
   ],
   "id": "de02151071936a6e",
   "outputs": [],
   "execution_count": 9
  },
  {
   "metadata": {
    "colab": {
     "base_uri": "https://localhost:8080/"
    },
    "id": "ed24565bb530937a",
    "outputId": "a4e4fcea-e189-4688-8157-69348d18d5e1",
    "ExecuteTime": {
     "end_time": "2025-08-16T09:54:50.729722Z",
     "start_time": "2025-08-16T09:54:50.515375Z"
    }
   },
   "cell_type": "code",
   "source": [
    "model = PneumoCNN()\n",
    "model"
   ],
   "id": "ed24565bb530937a",
   "outputs": [
    {
     "data": {
      "text/plain": [
       "PneumoCNN(\n",
       "  (net): ResNet(\n",
       "    (conv1): Conv2d(3, 64, kernel_size=(7, 7), stride=(2, 2), padding=(3, 3), bias=False)\n",
       "    (bn1): BatchNorm2d(64, eps=1e-05, momentum=0.1, affine=True, track_running_stats=True)\n",
       "    (relu): ReLU(inplace=True)\n",
       "    (maxpool): MaxPool2d(kernel_size=3, stride=2, padding=1, dilation=1, ceil_mode=False)\n",
       "    (layer1): Sequential(\n",
       "      (0): BasicBlock(\n",
       "        (conv1): Conv2d(64, 64, kernel_size=(3, 3), stride=(1, 1), padding=(1, 1), bias=False)\n",
       "        (bn1): BatchNorm2d(64, eps=1e-05, momentum=0.1, affine=True, track_running_stats=True)\n",
       "        (relu): ReLU(inplace=True)\n",
       "        (conv2): Conv2d(64, 64, kernel_size=(3, 3), stride=(1, 1), padding=(1, 1), bias=False)\n",
       "        (bn2): BatchNorm2d(64, eps=1e-05, momentum=0.1, affine=True, track_running_stats=True)\n",
       "      )\n",
       "      (1): BasicBlock(\n",
       "        (conv1): Conv2d(64, 64, kernel_size=(3, 3), stride=(1, 1), padding=(1, 1), bias=False)\n",
       "        (bn1): BatchNorm2d(64, eps=1e-05, momentum=0.1, affine=True, track_running_stats=True)\n",
       "        (relu): ReLU(inplace=True)\n",
       "        (conv2): Conv2d(64, 64, kernel_size=(3, 3), stride=(1, 1), padding=(1, 1), bias=False)\n",
       "        (bn2): BatchNorm2d(64, eps=1e-05, momentum=0.1, affine=True, track_running_stats=True)\n",
       "      )\n",
       "    )\n",
       "    (layer2): Sequential(\n",
       "      (0): BasicBlock(\n",
       "        (conv1): Conv2d(64, 128, kernel_size=(3, 3), stride=(2, 2), padding=(1, 1), bias=False)\n",
       "        (bn1): BatchNorm2d(128, eps=1e-05, momentum=0.1, affine=True, track_running_stats=True)\n",
       "        (relu): ReLU(inplace=True)\n",
       "        (conv2): Conv2d(128, 128, kernel_size=(3, 3), stride=(1, 1), padding=(1, 1), bias=False)\n",
       "        (bn2): BatchNorm2d(128, eps=1e-05, momentum=0.1, affine=True, track_running_stats=True)\n",
       "        (downsample): Sequential(\n",
       "          (0): Conv2d(64, 128, kernel_size=(1, 1), stride=(2, 2), bias=False)\n",
       "          (1): BatchNorm2d(128, eps=1e-05, momentum=0.1, affine=True, track_running_stats=True)\n",
       "        )\n",
       "      )\n",
       "      (1): BasicBlock(\n",
       "        (conv1): Conv2d(128, 128, kernel_size=(3, 3), stride=(1, 1), padding=(1, 1), bias=False)\n",
       "        (bn1): BatchNorm2d(128, eps=1e-05, momentum=0.1, affine=True, track_running_stats=True)\n",
       "        (relu): ReLU(inplace=True)\n",
       "        (conv2): Conv2d(128, 128, kernel_size=(3, 3), stride=(1, 1), padding=(1, 1), bias=False)\n",
       "        (bn2): BatchNorm2d(128, eps=1e-05, momentum=0.1, affine=True, track_running_stats=True)\n",
       "      )\n",
       "    )\n",
       "    (layer3): Sequential(\n",
       "      (0): BasicBlock(\n",
       "        (conv1): Conv2d(128, 256, kernel_size=(3, 3), stride=(2, 2), padding=(1, 1), bias=False)\n",
       "        (bn1): BatchNorm2d(256, eps=1e-05, momentum=0.1, affine=True, track_running_stats=True)\n",
       "        (relu): ReLU(inplace=True)\n",
       "        (conv2): Conv2d(256, 256, kernel_size=(3, 3), stride=(1, 1), padding=(1, 1), bias=False)\n",
       "        (bn2): BatchNorm2d(256, eps=1e-05, momentum=0.1, affine=True, track_running_stats=True)\n",
       "        (downsample): Sequential(\n",
       "          (0): Conv2d(128, 256, kernel_size=(1, 1), stride=(2, 2), bias=False)\n",
       "          (1): BatchNorm2d(256, eps=1e-05, momentum=0.1, affine=True, track_running_stats=True)\n",
       "        )\n",
       "      )\n",
       "      (1): BasicBlock(\n",
       "        (conv1): Conv2d(256, 256, kernel_size=(3, 3), stride=(1, 1), padding=(1, 1), bias=False)\n",
       "        (bn1): BatchNorm2d(256, eps=1e-05, momentum=0.1, affine=True, track_running_stats=True)\n",
       "        (relu): ReLU(inplace=True)\n",
       "        (conv2): Conv2d(256, 256, kernel_size=(3, 3), stride=(1, 1), padding=(1, 1), bias=False)\n",
       "        (bn2): BatchNorm2d(256, eps=1e-05, momentum=0.1, affine=True, track_running_stats=True)\n",
       "      )\n",
       "    )\n",
       "    (layer4): Sequential(\n",
       "      (0): BasicBlock(\n",
       "        (conv1): Conv2d(256, 512, kernel_size=(3, 3), stride=(2, 2), padding=(1, 1), bias=False)\n",
       "        (bn1): BatchNorm2d(512, eps=1e-05, momentum=0.1, affine=True, track_running_stats=True)\n",
       "        (relu): ReLU(inplace=True)\n",
       "        (conv2): Conv2d(512, 512, kernel_size=(3, 3), stride=(1, 1), padding=(1, 1), bias=False)\n",
       "        (bn2): BatchNorm2d(512, eps=1e-05, momentum=0.1, affine=True, track_running_stats=True)\n",
       "        (downsample): Sequential(\n",
       "          (0): Conv2d(256, 512, kernel_size=(1, 1), stride=(2, 2), bias=False)\n",
       "          (1): BatchNorm2d(512, eps=1e-05, momentum=0.1, affine=True, track_running_stats=True)\n",
       "        )\n",
       "      )\n",
       "      (1): BasicBlock(\n",
       "        (conv1): Conv2d(512, 512, kernel_size=(3, 3), stride=(1, 1), padding=(1, 1), bias=False)\n",
       "        (bn1): BatchNorm2d(512, eps=1e-05, momentum=0.1, affine=True, track_running_stats=True)\n",
       "        (relu): ReLU(inplace=True)\n",
       "        (conv2): Conv2d(512, 512, kernel_size=(3, 3), stride=(1, 1), padding=(1, 1), bias=False)\n",
       "        (bn2): BatchNorm2d(512, eps=1e-05, momentum=0.1, affine=True, track_running_stats=True)\n",
       "      )\n",
       "    )\n",
       "    (avgpool): AdaptiveAvgPool2d(output_size=(1, 1))\n",
       "    (fc): Sequential(\n",
       "      (0): Dropout(p=0.2, inplace=False)\n",
       "      (1): Linear(in_features=512, out_features=1, bias=True)\n",
       "    )\n",
       "  )\n",
       ")"
      ]
     },
     "execution_count": 11,
     "metadata": {},
     "output_type": "execute_result"
    }
   ],
   "execution_count": 11
  },
  {
   "metadata": {
    "colab": {
     "base_uri": "https://localhost:8080/"
    },
    "id": "f97b0d4eeba3a3a4",
    "outputId": "5ce54006-f71f-4fdc-9eee-f343c024460d",
    "ExecuteTime": {
     "end_time": "2025-08-16T09:54:53.130033Z",
     "start_time": "2025-08-16T09:54:53.123716Z"
    }
   },
   "cell_type": "code",
   "source": [
    "device = torch.device(\"cuda\" if torch.cuda.is_available() else \"cpu\")\n",
    "print(\"device: \", device)\n",
    "model = model.to(device)\n",
    "EPOCHS = 15\n",
    "patience = int(EPOCHS * 2/3)\n",
    "lr = 1e-3\n",
    "\n",
    "train_loader = DataLoader(train_ds, batch_size=BATCH_SIZE, shuffle=True,  num_workers=NUM_WORKERS, pin_memory=True)\n",
    "val_loader   = DataLoader(val_ds,   batch_size=BATCH_SIZE, shuffle=False, num_workers=NUM_WORKERS, pin_memory=True)\n",
    "test_loader  = DataLoader(test_ds,  batch_size=BATCH_SIZE, shuffle=False, num_workers=NUM_WORKERS, pin_memory=True)"
   ],
   "id": "f97b0d4eeba3a3a4",
   "outputs": [
    {
     "name": "stdout",
     "output_type": "stream",
     "text": [
      "device:  cpu\n"
     ]
    }
   ],
   "execution_count": 12
  },
  {
   "metadata": {
    "colab": {
     "base_uri": "https://localhost:8080/"
    },
    "id": "9b8cdf49ba014121",
    "outputId": "e2e84f11-16b2-4a2b-fb23-9336d8b6efe9",
    "ExecuteTime": {
     "end_time": "2025-08-16T09:54:55.852707Z",
     "start_time": "2025-08-16T09:54:55.846144Z"
    }
   },
   "cell_type": "code",
   "source": [
    "# Compute class weights for BCEWithLogitsLoss (pos_weight = N_neg / N_pos for label=1 class)\n",
    "# In ImageFolder, NORMAL -> 0, PNEUMONIA -> 1 (alphabetical)\n",
    "train_targets = torch.tensor([y for _, y in train_ds.samples])\n",
    "pos = (train_targets==1).sum().item()\n",
    "neg = (train_targets==0).sum().item()\n",
    "pos_weight = torch.tensor([neg / max(pos,1.0)], dtype=torch.float32)\n",
    "print(f\"Train counts -> NEG(NORMAL)={neg}, POS(PNEUMONIA)={pos}, pos_weight={pos_weight.item():.3f}\")"
   ],
   "id": "9b8cdf49ba014121",
   "outputs": [
    {
     "name": "stdout",
     "output_type": "stream",
     "text": [
      "Train counts -> NEG(NORMAL)=1147, POS(PNEUMONIA)=3300, pos_weight=0.348\n"
     ]
    }
   ],
   "execution_count": 13
  },
  {
   "metadata": {
    "id": "b50f3aa6180c3597",
    "ExecuteTime": {
     "end_time": "2025-08-16T09:56:13.285818Z",
     "start_time": "2025-08-16T09:56:13.283477Z"
    }
   },
   "cell_type": "code",
   "source": [
    "# # Loss, Optimizer, LR scheduler\n",
    "criterion = nn.BCEWithLogitsLoss(pos_weight=pos_weight.to(device))  # robust for class imbalance\n",
    "optimizer = AdamW(model.parameters(), lr=lr)\n",
    "scheduler = ReduceLROnPlateau(optimizer, mode='max', factor=0.5, patience=2)"
   ],
   "id": "b50f3aa6180c3597",
   "outputs": [],
   "execution_count": 15
  },
  {
   "metadata": {
    "ExecuteTime": {
     "end_time": "2025-08-16T09:56:15.540206Z",
     "start_time": "2025-08-16T09:56:15.534197Z"
    }
   },
   "cell_type": "code",
   "source": [
    "def _run_epoch(model, loader, criterion, *, is_train, optimizer=None, acc_threshold=0.5, epochNumber=0, tag=\"\"):\n",
    "    \"\"\"Core loop used by both train and eval.\"\"\"\n",
    "    model.train() if is_train else model.eval()\n",
    "    ctx = nullcontext() if is_train else torch.inference_mode()\n",
    "\n",
    "    epoch_loss, correct, n = 0.0, 0, 0\n",
    "    all_probs, all_targets = [], []\n",
    "\n",
    "    with ctx:\n",
    "        for images, targets in tqdm(loader, desc=f\"[{tag}] Epoch {epochNumber}/{EPOCHS}\"):\n",
    "            images  = images.to(device, non_blocking=True)\n",
    "            targets = targets.to(device, non_blocking=True).float()\n",
    "\n",
    "            logits = model(images).squeeze(1)\n",
    "            loss   = criterion(logits, targets)\n",
    "\n",
    "            if is_train:\n",
    "                optimizer.zero_grad(set_to_none=True)\n",
    "                loss.backward()\n",
    "                optimizer.step()\n",
    "\n",
    "            probs = torch.sigmoid(logits)\n",
    "            preds = (probs >= acc_threshold).long()\n",
    "            correct   += (preds == targets.long()).sum().item()\n",
    "            n         += targets.size(0)\n",
    "            epoch_loss += loss.item() * targets.size(0)\n",
    "\n",
    "            all_probs.append(probs.detach().cpu())\n",
    "            all_targets.append(targets.detach().cpu())\n",
    "\n",
    "    avg_loss  = epoch_loss / n\n",
    "    acc       = correct / n\n",
    "    probs_np   = torch.cat(all_probs).numpy()\n",
    "    targets_np = torch.cat(all_targets).numpy()\n",
    "    try:\n",
    "        auc = roc_auc_score(targets_np, probs_np)\n",
    "    except Exception:\n",
    "        auc = float(\"nan\")\n",
    "    return avg_loss, acc, auc, probs_np, targets_np"
   ],
   "id": "a4cc7ff97f1ac882",
   "outputs": [],
   "execution_count": 16
  },
  {
   "metadata": {
    "ExecuteTime": {
     "end_time": "2025-08-16T09:56:17.697552Z",
     "start_time": "2025-08-16T09:56:17.694124Z"
    }
   },
   "cell_type": "code",
   "source": [
    "def train_one_epoch(model, loader, epochNumber, optimizer, criterion):\n",
    "    return _run_epoch(model, loader, criterion,\n",
    "                      is_train=True, optimizer=optimizer,\n",
    "                      acc_threshold=0.5, epochNumber=epochNumber, tag=\"Train\")\n",
    "\n",
    "def eval_one_epoch(model, loader, epochNumber, criterion):\n",
    "    return _run_epoch(model, loader, criterion,\n",
    "                      is_train=False, optimizer=None,\n",
    "                      acc_threshold=0.5, epochNumber=epochNumber, tag=\"Eval\")"
   ],
   "id": "d37033b19d8f30ea",
   "outputs": [],
   "execution_count": 17
  },
  {
   "metadata": {
    "colab": {
     "base_uri": "https://localhost:8080/"
    },
    "id": "1d58bfe14ce766bf",
    "outputId": "6142a76d-6fdd-4ad7-d09e-02ecd8efe641",
    "ExecuteTime": {
     "end_time": "2025-08-16T09:56:18.969801Z",
     "start_time": "2025-08-16T09:56:18.963880Z"
    }
   },
   "cell_type": "code",
   "source": [
    "def fit(model, train_loader, val_loader, criterion, optimizer, scheduler=None, epochs=15, patience=10):\n",
    "    best_val_auc, no_improve = -np.inf, 0\n",
    "    ckpt_path = \"best_cnn_pneumonia.pt\"\n",
    "    history = {\"train_loss\":[], \"train_acc\":[], \"train_auc\":[],\n",
    "               \"val_loss\":[], \"val_acc\":[], \"val_auc\":[]}\n",
    "\n",
    "    start = time.time()\n",
    "    for epoch in range(1, epochs+1):\n",
    "        tr_loss, tr_acc, tr_auc, _, _ = train_one_epoch(model, train_loader, epoch, optimizer, criterion)\n",
    "        val_loss, val_acc, val_auc, _, _ = eval_one_epoch(model, val_loader, epoch, criterion)\n",
    "\n",
    "        if scheduler is not None:\n",
    "            scheduler.step(val_auc)\n",
    "\n",
    "        history[\"train_loss\"].append(tr_loss); history[\"train_acc\"].append(tr_acc); history[\"train_auc\"].append(tr_auc)\n",
    "        history[\"val_loss\"].append(val_loss);   history[\"val_acc\"].append(val_acc);   history[\"val_auc\"].append(val_auc)\n",
    "\n",
    "        print(f\"Epoch {epoch:02d}/{epochs} | \"\n",
    "              f\"Train Loss {tr_loss:.4f} Accuracy {tr_acc:.4f} AUC {tr_auc:.4f} | \"\n",
    "              f\"Val Loss {val_loss:.4f} Accuracy {val_acc:.4f} AUC {val_auc:.4f}\")\n",
    "\n",
    "        # Early stopping & checkpoint\n",
    "        if val_auc > best_val_auc:\n",
    "            best_val_auc, no_improve = val_auc, 0\n",
    "            torch.save({\"model_state\": model.state_dict(),\n",
    "                        \"optimizer_state\": optimizer.state_dict(),\n",
    "                        \"epoch\": epoch}, ckpt_path)\n",
    "        else:\n",
    "            no_improve += 1\n",
    "            if no_improve >= patience:\n",
    "                print(f\"Early stopping at epoch {epoch}. Best val AUC={best_val_auc:.4f}\")\n",
    "                break\n",
    "\n",
    "    ckpt = torch.load(ckpt_path, map_location=device)\n",
    "    model.load_state_dict(ckpt[\"model_state\"])\n",
    "    print(f\"Training finished in {(time.time()-start)/60:.1f} min. Best val AUC: {best_val_auc:.4f}\")\n",
    "    return history, best_val_auc"
   ],
   "id": "1d58bfe14ce766bf",
   "outputs": [],
   "execution_count": 18
  },
  {
   "metadata": {
    "colab": {
     "base_uri": "https://localhost:8080/",
     "height": 377
    },
    "id": "255812c0f1fcfdcc",
    "outputId": "398cf1c8-261e-461d-9b56-79459ac79912",
    "ExecuteTime": {
     "end_time": "2025-08-16T09:56:21.408820Z",
     "start_time": "2025-08-16T09:56:21.405252Z"
    }
   },
   "cell_type": "code",
   "source": [
    "def plot_curves(h):\n",
    "    fig, axs = plt.subplots(1,3, figsize=(16,4))\n",
    "    axs[0].plot(h[\"train_loss\"], label=\"train\"); axs[0].plot(h[\"val_loss\"], label=\"val\")\n",
    "    axs[0].set_title(\"Loss\"); axs[0].legend()\n",
    "    axs[1].plot(h[\"train_acc\"], label=\"train\"); axs[1].plot(h[\"val_acc\"], label=\"val\")\n",
    "    axs[1].set_title(\"Accuracy\"); axs[1].legend()\n",
    "    axs[2].plot(h[\"train_auc\"], label=\"train\"); axs[2].plot(h[\"val_auc\"], label=\"val\")\n",
    "    axs[2].set_title(\"ROC-AUC\"); axs[2].legend()\n",
    "    plt.show()"
   ],
   "id": "255812c0f1fcfdcc",
   "outputs": [],
   "execution_count": 19
  },
  {
   "metadata": {
    "ExecuteTime": {
     "end_time": "2025-08-16T09:56:38.181365Z",
     "start_time": "2025-08-16T09:56:23.541629Z"
    }
   },
   "cell_type": "code",
   "source": [
    "history, best_val_auc = fit(model, train_loader, val_loader, criterion, optimizer, scheduler, epochs=EPOCHS, patience=patience)\n",
    "\n",
    "plot_curves(history)"
   ],
   "id": "23ce4ac62dfb00cd",
   "outputs": [
    {
     "name": "stderr",
     "output_type": "stream",
     "text": [
      "[Train] Epoch 1/15:   0%|          | 0/70 [00:00<?, ?it/s]/opt/anaconda3/envs/ml/lib/python3.12/site-packages/torch/utils/data/dataloader.py:683: UserWarning: 'pin_memory' argument is set as true but not supported on MPS now, then device pinned memory won't be used.\n",
      "  warnings.warn(warn_msg)\n",
      "Exception ignored in: <function _MultiProcessingDataLoaderIter.__del__ at 0x152a2be20>\n",
      "Traceback (most recent call last):\n",
      "  File \"/opt/anaconda3/envs/ml/lib/python3.12/site-packages/torch/utils/data/dataloader.py\", line 1663, in __del__\n",
      "    self._shutdown_workers()\n",
      "  File \"/opt/anaconda3/envs/ml/lib/python3.12/site-packages/torch/utils/data/dataloader.py\", line 1627, in _shutdown_workers\n",
      "    w.join(timeout=_utils.MP_STATUS_CHECK_INTERVAL)\n",
      "  File \"/opt/anaconda3/envs/ml/lib/python3.12/multiprocessing/process.py\", line 149, in join\n",
      "    res = self._popen.wait(timeout)\n",
      "          ^^^^^^^^^^^^^^^^^^^^^^^^^\n",
      "  File \"/opt/anaconda3/envs/ml/lib/python3.12/multiprocessing/popen_fork.py\", line 40, in wait\n",
      "    if not wait([self.sentinel], timeout):\n",
      "           ^^^^^^^^^^^^^^^^^^^^^^^^^^^^^^\n",
      "  File \"/opt/anaconda3/envs/ml/lib/python3.12/multiprocessing/connection.py\", line 1135, in wait\n",
      "    ready = selector.select(timeout)\n",
      "            ^^^^^^^^^^^^^^^^^^^^^^^^\n",
      "  File \"/opt/anaconda3/envs/ml/lib/python3.12/selectors.py\", line 415, in select\n",
      "    fd_event_list = self._selector.poll(timeout)\n",
      "                    ^^^^^^^^^^^^^^^^^^^^^^^^^^^^\n",
      "KeyboardInterrupt: \n",
      "[Train] Epoch 1/15:   0%|          | 0/70 [00:14<?, ?it/s]\n"
     ]
    },
    {
     "ename": "IndexError",
     "evalue": "Dimension out of range (expected to be in range of [-1, 0], but got 1)",
     "output_type": "error",
     "traceback": [
      "\u001B[0;31m---------------------------------------------------------------------------\u001B[0m",
      "\u001B[0;31mIndexError\u001B[0m                                Traceback (most recent call last)",
      "Cell \u001B[0;32mIn[20], line 1\u001B[0m\n\u001B[0;32m----> 1\u001B[0m history, best_val_auc \u001B[38;5;241m=\u001B[39m fit(model, train_loader, val_loader, criterion, optimizer, scheduler, epochs\u001B[38;5;241m=\u001B[39mEPOCHS, patience\u001B[38;5;241m=\u001B[39mpatience)\n\u001B[1;32m      3\u001B[0m plot_curves(history)\n",
      "Cell \u001B[0;32mIn[18], line 9\u001B[0m, in \u001B[0;36mfit\u001B[0;34m(model, train_loader, val_loader, criterion, optimizer, scheduler, epochs, patience)\u001B[0m\n\u001B[1;32m      7\u001B[0m start \u001B[38;5;241m=\u001B[39m time\u001B[38;5;241m.\u001B[39mtime()\n\u001B[1;32m      8\u001B[0m \u001B[38;5;28;01mfor\u001B[39;00m epoch \u001B[38;5;129;01min\u001B[39;00m \u001B[38;5;28mrange\u001B[39m(\u001B[38;5;241m1\u001B[39m, epochs\u001B[38;5;241m+\u001B[39m\u001B[38;5;241m1\u001B[39m):\n\u001B[0;32m----> 9\u001B[0m     tr_loss, tr_acc, tr_auc, _, _ \u001B[38;5;241m=\u001B[39m train_one_epoch(model, train_loader, epoch, optimizer, criterion)\n\u001B[1;32m     10\u001B[0m     val_loss, val_acc, val_auc, _, _ \u001B[38;5;241m=\u001B[39m eval_one_epoch(model, val_loader, epoch, criterion)\n\u001B[1;32m     12\u001B[0m     \u001B[38;5;28;01mif\u001B[39;00m scheduler \u001B[38;5;129;01mis\u001B[39;00m \u001B[38;5;129;01mnot\u001B[39;00m \u001B[38;5;28;01mNone\u001B[39;00m:\n",
      "Cell \u001B[0;32mIn[17], line 2\u001B[0m, in \u001B[0;36mtrain_one_epoch\u001B[0;34m(model, loader, epochNumber, optimizer, criterion)\u001B[0m\n\u001B[1;32m      1\u001B[0m \u001B[38;5;28;01mdef\u001B[39;00m \u001B[38;5;21mtrain_one_epoch\u001B[39m(model, loader, epochNumber, optimizer, criterion):\n\u001B[0;32m----> 2\u001B[0m     \u001B[38;5;28;01mreturn\u001B[39;00m _run_epoch(model, loader, criterion,\n\u001B[1;32m      3\u001B[0m                       is_train\u001B[38;5;241m=\u001B[39m\u001B[38;5;28;01mTrue\u001B[39;00m, optimizer\u001B[38;5;241m=\u001B[39moptimizer,\n\u001B[1;32m      4\u001B[0m                       acc_threshold\u001B[38;5;241m=\u001B[39m\u001B[38;5;241m0.5\u001B[39m, epochNumber\u001B[38;5;241m=\u001B[39mepochNumber, tag\u001B[38;5;241m=\u001B[39m\u001B[38;5;124m\"\u001B[39m\u001B[38;5;124mTrain\u001B[39m\u001B[38;5;124m\"\u001B[39m)\n",
      "Cell \u001B[0;32mIn[16], line 14\u001B[0m, in \u001B[0;36m_run_epoch\u001B[0;34m(model, loader, criterion, is_train, optimizer, acc_threshold, epochNumber, tag)\u001B[0m\n\u001B[1;32m     11\u001B[0m images  \u001B[38;5;241m=\u001B[39m images\u001B[38;5;241m.\u001B[39mto(device, non_blocking\u001B[38;5;241m=\u001B[39m\u001B[38;5;28;01mTrue\u001B[39;00m)\n\u001B[1;32m     12\u001B[0m targets \u001B[38;5;241m=\u001B[39m targets\u001B[38;5;241m.\u001B[39mto(device, non_blocking\u001B[38;5;241m=\u001B[39m\u001B[38;5;28;01mTrue\u001B[39;00m)\u001B[38;5;241m.\u001B[39mfloat()\n\u001B[0;32m---> 14\u001B[0m logits \u001B[38;5;241m=\u001B[39m model(images)\u001B[38;5;241m.\u001B[39msqueeze(\u001B[38;5;241m1\u001B[39m)\n\u001B[1;32m     15\u001B[0m loss   \u001B[38;5;241m=\u001B[39m criterion(logits, targets)\n\u001B[1;32m     17\u001B[0m \u001B[38;5;28;01mif\u001B[39;00m is_train:\n",
      "\u001B[0;31mIndexError\u001B[0m: Dimension out of range (expected to be in range of [-1, 0], but got 1)"
     ]
    }
   ],
   "execution_count": 20
  },
  {
   "metadata": {},
   "cell_type": "code",
   "source": [
    "def pick_threshold_from_val(y_true, y_prob):\n",
    "    prec, rec, thr = precision_recall_curve(y_true, y_prob)  # thr len = len(prec)-1\n",
    "    f1 = 2*prec[:-1]*rec[:-1]/(prec[:-1]+rec[:-1]+1e-12)\n",
    "    return float(thr[np.argmax(f1)])"
   ],
   "id": "7063381773ae66ad",
   "outputs": [],
   "execution_count": null
  },
  {
   "metadata": {},
   "cell_type": "code",
   "source": [
    "_, _, va_auc, va_probs, va_targets = eval_one_epoch(model, val_loader, epochNumber=0, criterion=criterion)\n",
    "best_thr = pick_threshold_from_val(va_targets, va_probs)\n",
    "print(\"Chosen threshold:\", best_thr)"
   ],
   "id": "2eacf0686271bb14",
   "outputs": [],
   "execution_count": null
  },
  {
   "metadata": {},
   "cell_type": "code",
   "source": [
    "def evaluate_with_threshold(model, loader, criterion, threshold):\n",
    "    loss, acc05, auc, probs, targets = eval_one_epoch(model, loader, epochNumber=0, criterion=criterion)\n",
    "    preds = (probs >= threshold).astype(int)\n",
    "    acc_thr = (preds == targets).mean()\n",
    "    cm = confusion_matrix(targets, preds)\n",
    "    tn, fp, fn, tp = cm.ravel()\n",
    "    spec = tn / (tn + fp + 1e-12)\n",
    "    sens = tp / (tp + fn + 1e-12)\n",
    "    bal_acc = (spec + sens) / 2\n",
    "    pr_auc = average_precision_score(targets, probs)\n",
    "    return {\"loss\":loss, \"acc@thr\":acc_thr, \"auc\":auc,\n",
    "            \"specificity\":spec, \"sensitivity\":sens,\n",
    "            \"balanced_acc\":bal_acc, \"pr_auc\":pr_auc,\n",
    "            \"cm\":cm, \"probs\":probs, \"targets\":targets}"
   ],
   "id": "18ea1347093d639a",
   "outputs": [],
   "execution_count": null
  },
  {
   "metadata": {},
   "cell_type": "code",
   "source": [
    "test_metrics = evaluate_with_threshold(model, test_loader, criterion, threshold=best_thr)\n",
    "print(f\"TEST — loss: {test_metrics['loss']:.4f} | acc@thr: {test_metrics['acc@thr']:.4f} | auc: {test_metrics['auc']:.4f}\")\n",
    "print(f\"Specificity: {test_metrics['specificity']:.4f} | Sensitivity: {test_metrics['sensitivity']:.4f} | \"\n",
    "      f\"Balanced Acc: {test_metrics['balanced_acc']:.4f} | PR-AUC: {test_metrics['pr_auc']:.4f}\")\n",
    "print(\"Confusion Matrix:\\n\", test_metrics['cm'])\n",
    "\n",
    "print(\"\\nClassification Report:\\n\",\n",
    "      classification_report(test_metrics['targets'],\n",
    "                            (test_metrics['probs']>=best_thr).astype(int),\n",
    "                            target_names=test_ds.classes, digits=4))\n",
    "\n",
    "# ROC curve (test)\n",
    "fpr, tpr, _ = roc_curve(test_metrics['targets'], test_metrics['probs'])\n",
    "plt.figure(figsize=(4,4))\n",
    "plt.plot(fpr, tpr, lw=2); plt.plot([0,1],[0,1],'--')\n",
    "plt.xlabel('FPR'); plt.ylabel('TPR'); plt.title('ROC Curve (Test)')\n",
    "plt.grid(True); plt.show()"
   ],
   "id": "98ac35a1e5d8e793",
   "outputs": [],
   "execution_count": null
  },
  {
   "metadata": {},
   "cell_type": "code",
   "source": [
    "def predict_image(path, model, tfms=eval_tfms, threshold=0.5):\n",
    "    model.eval()\n",
    "    img = Image.open(path).convert(\"RGB\")\n",
    "    x = tfms(img).unsqueeze(0).to(device)\n",
    "    with torch.no_grad():\n",
    "        logit = model(x)\n",
    "        prob = torch.sigmoid(logit).item()\n",
    "    pred = int(prob >= threshold)\n",
    "    return prob, pred  # P(pneumonia), predicted label"
   ],
   "id": "b96d80e65f42a95d",
   "outputs": [],
   "execution_count": null
  }
 ],
 "metadata": {
  "kernelspec": {
   "display_name": "Python 3 (ipykernel)",
   "name": "python3",
   "language": "python"
  },
  "language_info": {
   "codemirror_mode": {
    "name": "ipython",
    "version": 2
   },
   "file_extension": ".py",
   "mimetype": "text/x-python",
   "name": "python",
   "nbconvert_exporter": "python",
   "pygments_lexer": "ipython2",
   "version": "2.7.6"
  },
  "colab": {
   "provenance": [],
   "gpuType": "T4"
  },
  "accelerator": "GPU"
 },
 "nbformat": 4,
 "nbformat_minor": 5
}
