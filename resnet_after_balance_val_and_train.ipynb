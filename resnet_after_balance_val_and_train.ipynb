{
  "cells": [
    {
      "metadata": {
        "ExecuteTime": {
          "end_time": "2025-08-09T14:46:58.334070Z",
          "start_time": "2025-08-09T14:46:54.370448Z"
        },
        "colab": {
          "base_uri": "https://localhost:8080/"
        },
        "id": "b703f1837ead424",
        "outputId": "961b388c-6052-45c6-8ed1-d385585df273"
      },
      "cell_type": "code",
      "source": [
        "# Setup (PyTorch, paths, device, seeds)\n",
        "import os, random, math, time\n",
        "import numpy as np\n",
        "import matplotlib.pyplot as plt\n",
        "import kagglehub\n",
        "import torch\n",
        "import torch.nn as nn\n",
        "import torch.nn.functional as F\n",
        "from torch.optim import AdamW\n",
        "from torch.optim.lr_scheduler import ReduceLROnPlateau\n",
        "from torch.utils.data import DataLoader\n",
        "from torchvision import datasets, transforms ,models\n",
        "from tqdm import tqdm\n",
        "from sklearn.model_selection import train_test_split\n",
        "import shutil\n",
        "import tempfile\n",
        "\n",
        "from sklearn.metrics import confusion_matrix, classification_report, roc_auc_score, roc_curve, precision_recall_fscore_support\n",
        "torch.manual_seed(42)"
      ],
      "id": "b703f1837ead424",
      "outputs": [
        {
          "output_type": "execute_result",
          "data": {
            "text/plain": [
              "<torch._C.Generator at 0x7c933d105ab0>"
            ]
          },
          "metadata": {},
          "execution_count": 1
        }
      ],
      "execution_count": 1
    },
    {
      "metadata": {
        "ExecuteTime": {
          "end_time": "2025-08-09T14:47:01.744732Z",
          "start_time": "2025-08-09T14:47:01.134541Z"
        },
        "id": "afc4e9f146f60171"
      },
      "cell_type": "code",
      "source": [
        "path = kagglehub.dataset_download(\"paultimothymooney/chest-xray-pneumonia\")\n",
        "# Use the returned path to set base_dir correctly\n",
        "base_dir = os.path.join(path, \"chest_xray\")\n",
        "train_dir = os.path.join(base_dir, 'train')\n",
        "val_dir   = os.path.join(base_dir, 'val')\n",
        "test_dir  = os.path.join(base_dir, 'test')"
      ],
      "id": "afc4e9f146f60171",
      "outputs": [],
      "execution_count": 2
    },
    {
      "metadata": {
        "ExecuteTime": {
          "end_time": "2025-08-09T14:47:03.943983Z",
          "start_time": "2025-08-09T14:47:03.938856Z"
        },
        "colab": {
          "base_uri": "https://localhost:8080/"
        },
        "id": "fbaee290adb9096e",
        "outputId": "6c5cf39d-3e23-4adb-8086-4289c881c034"
      },
      "cell_type": "code",
      "source": [
        "print(\"Train dir:\", train_dir)\n",
        "print(\"Val dir:\", val_dir)\n",
        "print(\"Test dir:\", test_dir)\n",
        "\n",
        "print(\"Train dir contents:\", os.listdir(train_dir))\n",
        "print(\"Val dir contents:\", os.listdir(val_dir))\n",
        "print(\"Test dir contents:\", os.listdir(test_dir))"
      ],
      "id": "fbaee290adb9096e",
      "outputs": [
        {
          "output_type": "stream",
          "name": "stdout",
          "text": [
            "Train dir: /kaggle/input/chest-xray-pneumonia/chest_xray/train\n",
            "Val dir: /kaggle/input/chest-xray-pneumonia/chest_xray/val\n",
            "Test dir: /kaggle/input/chest-xray-pneumonia/chest_xray/test\n",
            "Train dir contents: ['PNEUMONIA', 'NORMAL']\n",
            "Val dir contents: ['PNEUMONIA', 'NORMAL']\n",
            "Test dir contents: ['PNEUMONIA', 'NORMAL']\n"
          ]
        }
      ],
      "execution_count": 3
    },
    {
      "metadata": {
        "ExecuteTime": {
          "end_time": "2025-08-09T14:47:09.291949Z",
          "start_time": "2025-08-09T14:47:05.488773Z"
        },
        "colab": {
          "base_uri": "https://localhost:8080/"
        },
        "id": "1bd2ab8b6a21fd4b",
        "outputId": "d90e20e9-62eb-483e-b565-1b5c2c4bd354"
      },
      "cell_type": "code",
      "source": [
        "# Print image counts before shuffle/split\n",
        "print('Before split:')\n",
        "for split in ['train', 'val']:\n",
        "    for cls in ['NORMAL', 'PNEUMONIA']:\n",
        "        folder = os.path.join(base_dir, split, cls)\n",
        "        print(f\"{split}/{cls}: {len(os.listdir(folder))}\")\n",
        "\n",
        "# Combine all images from train and val only (do not touch test)\n",
        "all_data = []\n",
        "for split in ['train', 'val']:\n",
        "    for cls in ['NORMAL', 'PNEUMONIA']:\n",
        "        folder = os.path.join(base_dir, split, cls)\n",
        "        for fname in os.listdir(folder):\n",
        "            all_data.append((os.path.join(folder, fname), cls))\n",
        "\n",
        "# Stratified split: 85% train, 15% val\n",
        "paths, labels = zip(*all_data)\n",
        "train_paths, val_paths, train_labels, val_labels = train_test_split(\n",
        "    paths, labels, test_size=0.15, stratify=labels, random_state=42)\n",
        "\n",
        "def copy_files(file_paths, labels, dest_dir):\n",
        "    for path, label in zip(file_paths, labels):\n",
        "        dest = os.path.join(dest_dir, label)\n",
        "        os.makedirs(dest, exist_ok=True)\n",
        "        shutil.copy(path, dest)\n",
        "\n",
        "# Set your new base_dir for split (must be writable, e.g., /kaggle/working or local path)\n",
        "# Use /kaggle/working if running on Kaggle, or a local writable path otherwise\n",
        "\n",
        "# Use a writable temp directory for the split\n",
        "new_base = os.path.join(tempfile.gettempdir(), \"chest_xray_split\")\n",
        "copy_files(train_paths, train_labels, os.path.join(new_base, 'train'))\n",
        "copy_files(val_paths, val_labels, os.path.join(new_base, 'val'))\n",
        "\n",
        "# Print image counts after shuffle/split\n",
        "print('After split:')\n",
        "for split in ['train', 'val']:\n",
        "    for cls in ['NORMAL', 'PNEUMONIA']:\n",
        "        folder = os.path.join(new_base, split, cls)\n",
        "        print(f\"{split}/{cls}: {len(os.listdir(folder))}\")\n",
        "\n",
        "# Update directory variables to point to the new split\n",
        "train_dir = os.path.join(new_base, 'train')\n",
        "val_dir   = os.path.join(new_base, 'val')\n",
        "# test_dir remains unchanged"
      ],
      "id": "1bd2ab8b6a21fd4b",
      "outputs": [
        {
          "output_type": "stream",
          "name": "stdout",
          "text": [
            "Before split:\n",
            "train/NORMAL: 1341\n",
            "train/PNEUMONIA: 3875\n",
            "val/NORMAL: 8\n",
            "val/PNEUMONIA: 8\n",
            "After split:\n",
            "train/NORMAL: 1147\n",
            "train/PNEUMONIA: 3300\n",
            "val/NORMAL: 202\n",
            "val/PNEUMONIA: 583\n"
          ]
        }
      ],
      "execution_count": 4
    },
    {
      "metadata": {
        "colab": {
          "base_uri": "https://localhost:8080/"
        },
        "id": "99a268b479a53658",
        "outputId": "4049d57e-781b-417a-9061-c51c599985ce"
      },
      "cell_type": "code",
      "outputs": [
        {
          "output_type": "stream",
          "name": "stdout",
          "text": [
            "Classes: ['NORMAL', 'PNEUMONIA'] => {'NORMAL': 0, 'PNEUMONIA': 1}\n"
          ]
        }
      ],
      "execution_count": 5,
      "source": [
        "# Datasets, DataLoaders, class weights (for imbalance)\n",
        "IMG_SIZE = 224\n",
        "BATCH_SIZE = 64\n",
        "NUM_WORKERS = 4\n",
        "\n",
        "transform = transforms.Compose([\n",
        "    transforms.Resize((IMG_SIZE, IMG_SIZE)),\n",
        "    transforms.RandomHorizontalFlip(p=0.5),\n",
        "    transforms.RandomRotation(10),\n",
        "    transforms.RandomResizedCrop(IMG_SIZE, scale=(0.9, 1.0)),\n",
        "    transforms.ToTensor(),\n",
        "    transforms.Normalize(mean=[0.485, 0.456, 0.406], std=[0.229, 0.224, 0.225]),  # Normalize\n",
        "])\n",
        "\n",
        "train_ds = datasets.ImageFolder(train_dir, transform=transform)\n",
        "val_ds   = datasets.ImageFolder(val_dir,   transform=transform)\n",
        "test_ds  = datasets.ImageFolder(test_dir,  transform=transform)\n",
        "\n",
        "print(\"Classes:\", train_ds.classes, \"=>\", train_ds.class_to_idx)"
      ],
      "id": "99a268b479a53658"
    },
    {
      "metadata": {
        "id": "de02151071936a6e"
      },
      "cell_type": "code",
      "outputs": [],
      "execution_count": 6,
      "source": [
        "# CNN model as a class (__init__ + forward)\n",
        "class PneumoCNN(nn.Module):\n",
        "    def __init__(self, num_classes=1):\n",
        "        super(PneumoCNN, self).__init__()\n",
        "        weights = models.ResNet18_Weights.IMAGENET1K_V1\n",
        "        m = models.resnet18(weights=weights)\n",
        "        m.fc = nn.Linear(m.fc.in_features, 1)\n",
        "        self.net = m\n",
        "\n",
        "    def forward(self, x):\n",
        "        return self.net(x).squeeze(1)  # [B]"
      ],
      "id": "de02151071936a6e"
    },
    {
      "metadata": {
        "colab": {
          "base_uri": "https://localhost:8080/"
        },
        "id": "ed24565bb530937a",
        "outputId": "a4e4fcea-e189-4688-8157-69348d18d5e1"
      },
      "cell_type": "code",
      "outputs": [
        {
          "output_type": "stream",
          "name": "stderr",
          "text": [
            "Downloading: \"https://download.pytorch.org/models/resnet18-f37072fd.pth\" to /root/.cache/torch/hub/checkpoints/resnet18-f37072fd.pth\n",
            "100%|██████████| 44.7M/44.7M [00:00<00:00, 209MB/s]\n"
          ]
        },
        {
          "output_type": "execute_result",
          "data": {
            "text/plain": [
              "PneumoCNN(\n",
              "  (net): ResNet(\n",
              "    (conv1): Conv2d(3, 64, kernel_size=(7, 7), stride=(2, 2), padding=(3, 3), bias=False)\n",
              "    (bn1): BatchNorm2d(64, eps=1e-05, momentum=0.1, affine=True, track_running_stats=True)\n",
              "    (relu): ReLU(inplace=True)\n",
              "    (maxpool): MaxPool2d(kernel_size=3, stride=2, padding=1, dilation=1, ceil_mode=False)\n",
              "    (layer1): Sequential(\n",
              "      (0): BasicBlock(\n",
              "        (conv1): Conv2d(64, 64, kernel_size=(3, 3), stride=(1, 1), padding=(1, 1), bias=False)\n",
              "        (bn1): BatchNorm2d(64, eps=1e-05, momentum=0.1, affine=True, track_running_stats=True)\n",
              "        (relu): ReLU(inplace=True)\n",
              "        (conv2): Conv2d(64, 64, kernel_size=(3, 3), stride=(1, 1), padding=(1, 1), bias=False)\n",
              "        (bn2): BatchNorm2d(64, eps=1e-05, momentum=0.1, affine=True, track_running_stats=True)\n",
              "      )\n",
              "      (1): BasicBlock(\n",
              "        (conv1): Conv2d(64, 64, kernel_size=(3, 3), stride=(1, 1), padding=(1, 1), bias=False)\n",
              "        (bn1): BatchNorm2d(64, eps=1e-05, momentum=0.1, affine=True, track_running_stats=True)\n",
              "        (relu): ReLU(inplace=True)\n",
              "        (conv2): Conv2d(64, 64, kernel_size=(3, 3), stride=(1, 1), padding=(1, 1), bias=False)\n",
              "        (bn2): BatchNorm2d(64, eps=1e-05, momentum=0.1, affine=True, track_running_stats=True)\n",
              "      )\n",
              "    )\n",
              "    (layer2): Sequential(\n",
              "      (0): BasicBlock(\n",
              "        (conv1): Conv2d(64, 128, kernel_size=(3, 3), stride=(2, 2), padding=(1, 1), bias=False)\n",
              "        (bn1): BatchNorm2d(128, eps=1e-05, momentum=0.1, affine=True, track_running_stats=True)\n",
              "        (relu): ReLU(inplace=True)\n",
              "        (conv2): Conv2d(128, 128, kernel_size=(3, 3), stride=(1, 1), padding=(1, 1), bias=False)\n",
              "        (bn2): BatchNorm2d(128, eps=1e-05, momentum=0.1, affine=True, track_running_stats=True)\n",
              "        (downsample): Sequential(\n",
              "          (0): Conv2d(64, 128, kernel_size=(1, 1), stride=(2, 2), bias=False)\n",
              "          (1): BatchNorm2d(128, eps=1e-05, momentum=0.1, affine=True, track_running_stats=True)\n",
              "        )\n",
              "      )\n",
              "      (1): BasicBlock(\n",
              "        (conv1): Conv2d(128, 128, kernel_size=(3, 3), stride=(1, 1), padding=(1, 1), bias=False)\n",
              "        (bn1): BatchNorm2d(128, eps=1e-05, momentum=0.1, affine=True, track_running_stats=True)\n",
              "        (relu): ReLU(inplace=True)\n",
              "        (conv2): Conv2d(128, 128, kernel_size=(3, 3), stride=(1, 1), padding=(1, 1), bias=False)\n",
              "        (bn2): BatchNorm2d(128, eps=1e-05, momentum=0.1, affine=True, track_running_stats=True)\n",
              "      )\n",
              "    )\n",
              "    (layer3): Sequential(\n",
              "      (0): BasicBlock(\n",
              "        (conv1): Conv2d(128, 256, kernel_size=(3, 3), stride=(2, 2), padding=(1, 1), bias=False)\n",
              "        (bn1): BatchNorm2d(256, eps=1e-05, momentum=0.1, affine=True, track_running_stats=True)\n",
              "        (relu): ReLU(inplace=True)\n",
              "        (conv2): Conv2d(256, 256, kernel_size=(3, 3), stride=(1, 1), padding=(1, 1), bias=False)\n",
              "        (bn2): BatchNorm2d(256, eps=1e-05, momentum=0.1, affine=True, track_running_stats=True)\n",
              "        (downsample): Sequential(\n",
              "          (0): Conv2d(128, 256, kernel_size=(1, 1), stride=(2, 2), bias=False)\n",
              "          (1): BatchNorm2d(256, eps=1e-05, momentum=0.1, affine=True, track_running_stats=True)\n",
              "        )\n",
              "      )\n",
              "      (1): BasicBlock(\n",
              "        (conv1): Conv2d(256, 256, kernel_size=(3, 3), stride=(1, 1), padding=(1, 1), bias=False)\n",
              "        (bn1): BatchNorm2d(256, eps=1e-05, momentum=0.1, affine=True, track_running_stats=True)\n",
              "        (relu): ReLU(inplace=True)\n",
              "        (conv2): Conv2d(256, 256, kernel_size=(3, 3), stride=(1, 1), padding=(1, 1), bias=False)\n",
              "        (bn2): BatchNorm2d(256, eps=1e-05, momentum=0.1, affine=True, track_running_stats=True)\n",
              "      )\n",
              "    )\n",
              "    (layer4): Sequential(\n",
              "      (0): BasicBlock(\n",
              "        (conv1): Conv2d(256, 512, kernel_size=(3, 3), stride=(2, 2), padding=(1, 1), bias=False)\n",
              "        (bn1): BatchNorm2d(512, eps=1e-05, momentum=0.1, affine=True, track_running_stats=True)\n",
              "        (relu): ReLU(inplace=True)\n",
              "        (conv2): Conv2d(512, 512, kernel_size=(3, 3), stride=(1, 1), padding=(1, 1), bias=False)\n",
              "        (bn2): BatchNorm2d(512, eps=1e-05, momentum=0.1, affine=True, track_running_stats=True)\n",
              "        (downsample): Sequential(\n",
              "          (0): Conv2d(256, 512, kernel_size=(1, 1), stride=(2, 2), bias=False)\n",
              "          (1): BatchNorm2d(512, eps=1e-05, momentum=0.1, affine=True, track_running_stats=True)\n",
              "        )\n",
              "      )\n",
              "      (1): BasicBlock(\n",
              "        (conv1): Conv2d(512, 512, kernel_size=(3, 3), stride=(1, 1), padding=(1, 1), bias=False)\n",
              "        (bn1): BatchNorm2d(512, eps=1e-05, momentum=0.1, affine=True, track_running_stats=True)\n",
              "        (relu): ReLU(inplace=True)\n",
              "        (conv2): Conv2d(512, 512, kernel_size=(3, 3), stride=(1, 1), padding=(1, 1), bias=False)\n",
              "        (bn2): BatchNorm2d(512, eps=1e-05, momentum=0.1, affine=True, track_running_stats=True)\n",
              "      )\n",
              "    )\n",
              "    (avgpool): AdaptiveAvgPool2d(output_size=(1, 1))\n",
              "    (fc): Linear(in_features=512, out_features=1, bias=True)\n",
              "  )\n",
              ")"
            ]
          },
          "metadata": {},
          "execution_count": 7
        }
      ],
      "execution_count": 7,
      "source": [
        "model = PneumoCNN(num_classes=1)\n",
        "model"
      ],
      "id": "ed24565bb530937a"
    },
    {
      "metadata": {
        "colab": {
          "base_uri": "https://localhost:8080/"
        },
        "id": "f97b0d4eeba3a3a4",
        "outputId": "5ce54006-f71f-4fdc-9eee-f343c024460d"
      },
      "cell_type": "code",
      "outputs": [
        {
          "output_type": "stream",
          "name": "stdout",
          "text": [
            "device:  cuda\n"
          ]
        },
        {
          "output_type": "stream",
          "name": "stderr",
          "text": [
            "/usr/local/lib/python3.11/dist-packages/torch/utils/data/dataloader.py:624: UserWarning: This DataLoader will create 4 worker processes in total. Our suggested max number of worker in current system is 2, which is smaller than what this DataLoader is going to create. Please be aware that excessive worker creation might get DataLoader running slow or even freeze, lower the worker number to avoid potential slowness/freeze if necessary.\n",
            "  warnings.warn(\n"
          ]
        }
      ],
      "execution_count": 8,
      "source": [
        "device = torch.device(\"cuda\" if torch.cuda.is_available() else \"cpu\")\n",
        "print(\"device: \", device)\n",
        "model = model.to(device)\n",
        "EPOCHS = 15\n",
        "patience = int(EPOCHS * 2/3)\n",
        "lr = 1e-3\n",
        "\n",
        "train_loader = DataLoader(train_ds, batch_size=BATCH_SIZE, shuffle=True,  num_workers=NUM_WORKERS, pin_memory=True)\n",
        "val_loader   = DataLoader(val_ds,   batch_size=BATCH_SIZE, shuffle=False, num_workers=NUM_WORKERS, pin_memory=True)\n",
        "test_loader  = DataLoader(test_ds,  batch_size=BATCH_SIZE, shuffle=False, num_workers=NUM_WORKERS, pin_memory=True)"
      ],
      "id": "f97b0d4eeba3a3a4"
    },
    {
      "metadata": {
        "colab": {
          "base_uri": "https://localhost:8080/"
        },
        "id": "9b8cdf49ba014121",
        "outputId": "e2e84f11-16b2-4a2b-fb23-9336d8b6efe9"
      },
      "cell_type": "code",
      "outputs": [
        {
          "output_type": "stream",
          "name": "stdout",
          "text": [
            "Train counts -> NEG(NORMAL)=1147, POS(PNEUMONIA)=3300, pos_weight=0.348\n"
          ]
        }
      ],
      "execution_count": 9,
      "source": [
        "# Compute class weights for BCEWithLogitsLoss (pos_weight = N_neg / N_pos for label=1 class)\n",
        "# In ImageFolder, NORMAL -> 0, PNEUMONIA -> 1 (alphabetical)\n",
        "train_targets = torch.tensor([y for _, y in train_ds.samples])\n",
        "pos = (train_targets==1).sum().item()\n",
        "neg = (train_targets==0).sum().item()\n",
        "pos_weight = torch.tensor([neg / max(pos,1.0)], dtype=torch.float32)\n",
        "print(f\"Train counts -> NEG(NORMAL)={neg}, POS(PNEUMONIA)={pos}, pos_weight={pos_weight.item():.3f}\")"
      ],
      "id": "9b8cdf49ba014121"
    },
    {
      "metadata": {
        "id": "b50f3aa6180c3597"
      },
      "cell_type": "code",
      "outputs": [],
      "execution_count": 10,
      "source": [
        "# # Loss, Optimizer, LR scheduler\n",
        "criterion = nn.BCEWithLogitsLoss(pos_weight=pos_weight.to(device))  # robust for class imbalance\n",
        "optimizer = AdamW(model.parameters(), lr=lr)\n",
        "# scheduler = ReduceLROnPlateau(optimizer, mode='max', factor=0.5, patience=2, verbose=True) # monitors val accuracy"
      ],
      "id": "b50f3aa6180c3597"
    },
    {
      "metadata": {
        "id": "d8a6d6a722cb7021"
      },
      "cell_type": "code",
      "outputs": [],
      "execution_count": 11,
      "source": [
        "# Utilities: train/eval loops\n",
        "def accuracy_from_logits(logits, targets):\n",
        "    probs = torch.sigmoid(logits).squeeze(1)\n",
        "    preds = (probs >= 0.5).long()\n",
        "    correct = (preds == targets.long()).sum().item()\n",
        "    return correct, preds, probs\n",
        "\n",
        "def run_one_epoch(model, loader, epochNumber, optimizer=None):\n",
        "    is_train = optimizer is not None\n",
        "    model.train() if is_train else model.eval()\n",
        "    epoch_loss = 0.0\n",
        "    correct = 0\n",
        "    n = 0\n",
        "    all_probs, all_targets = [], []\n",
        "\n",
        "    for images, targets in tqdm(loader, desc=f\"Epoch {epochNumber}/{EPOCHS}\"):\n",
        "        images = images.to(device, non_blocking=True)\n",
        "        targets = targets.to(device, non_blocking=True)\n",
        "\n",
        "        with torch.set_grad_enabled(is_train):\n",
        "            logits  = model(images)\n",
        "            if logits.ndim == 2 and logits.size(1) == 1:\n",
        "                logits = logits[:, 0]\n",
        "            targets = targets.float().view(-1)\n",
        "            loss = criterion(logits, targets)\n",
        "            if is_train:\n",
        "                optimizer.zero_grad(set_to_none=True)\n",
        "                loss.backward()\n",
        "                optimizer.step()\n",
        "\n",
        "        c, _, probs = accuracy_from_logits(logits.unsqueeze(1), targets)\n",
        "        epoch_loss += loss.item() * images.size(0)\n",
        "        correct += c\n",
        "        n += images.size(0)\n",
        "\n",
        "        all_probs.append(probs.detach().cpu())\n",
        "        all_targets.append(targets.detach().cpu())\n",
        "\n",
        "    avg_loss = epoch_loss / n\n",
        "    acc = correct / n\n",
        "    all_probs = torch.cat(all_probs).numpy()\n",
        "    all_targets = torch.cat(all_targets).numpy()\n",
        "\n",
        "    # Some environments may lack enough positive/negative samples for AUC early on; guard it\n",
        "    try:\n",
        "        auc = roc_auc_score(all_targets, all_probs)\n",
        "    except Exception:\n",
        "        auc = float('nan')\n",
        "\n",
        "    return avg_loss, acc, auc, all_probs, all_targets"
      ],
      "id": "d8a6d6a722cb7021"
    },
    {
      "metadata": {
        "colab": {
          "base_uri": "https://localhost:8080/"
        },
        "id": "1d58bfe14ce766bf",
        "outputId": "6142a76d-6fdd-4ad7-d09e-02ecd8efe641"
      },
      "cell_type": "code",
      "outputs": [
        {
          "output_type": "stream",
          "name": "stderr",
          "text": [
            "Epoch 1/15: 100%|██████████| 70/70 [01:12<00:00,  1.03s/it]\n",
            "Epoch 1/15:   0%|          | 0/13 [00:00<?, ?it/s]/usr/local/lib/python3.11/dist-packages/torch/utils/data/dataloader.py:624: UserWarning: This DataLoader will create 4 worker processes in total. Our suggested max number of worker in current system is 2, which is smaller than what this DataLoader is going to create. Please be aware that excessive worker creation might get DataLoader running slow or even freeze, lower the worker number to avoid potential slowness/freeze if necessary.\n",
            "  warnings.warn(\n",
            "Epoch 1/15: 100%|██████████| 13/13 [00:13<00:00,  1.01s/it]\n"
          ]
        },
        {
          "output_type": "stream",
          "name": "stdout",
          "text": [
            "Epoch 01/15 | Train: loss 0.0809 acc 0.9337 auc 0.9849 | Val:   loss 0.0394 acc 0.9682 auc 0.9968\n"
          ]
        },
        {
          "output_type": "stream",
          "name": "stderr",
          "text": [
            "\rEpoch 2/15:   0%|          | 0/70 [00:00<?, ?it/s]/usr/local/lib/python3.11/dist-packages/torch/utils/data/dataloader.py:624: UserWarning: This DataLoader will create 4 worker processes in total. Our suggested max number of worker in current system is 2, which is smaller than what this DataLoader is going to create. Please be aware that excessive worker creation might get DataLoader running slow or even freeze, lower the worker number to avoid potential slowness/freeze if necessary.\n",
            "  warnings.warn(\n",
            "Epoch 2/15: 100%|██████████| 70/70 [01:12<00:00,  1.03s/it]\n",
            "Epoch 2/15:   0%|          | 0/13 [00:00<?, ?it/s]/usr/local/lib/python3.11/dist-packages/torch/utils/data/dataloader.py:624: UserWarning: This DataLoader will create 4 worker processes in total. Our suggested max number of worker in current system is 2, which is smaller than what this DataLoader is going to create. Please be aware that excessive worker creation might get DataLoader running slow or even freeze, lower the worker number to avoid potential slowness/freeze if necessary.\n",
            "  warnings.warn(\n",
            "Epoch 2/15: 100%|██████████| 13/13 [00:14<00:00,  1.09s/it]\n"
          ]
        },
        {
          "output_type": "stream",
          "name": "stdout",
          "text": [
            "Epoch 02/15 | Train: loss 0.0440 acc 0.9665 auc 0.9951 | Val:   loss 0.1231 acc 0.8815 auc 0.9969\n"
          ]
        },
        {
          "output_type": "stream",
          "name": "stderr",
          "text": [
            "\rEpoch 3/15:   0%|          | 0/70 [00:00<?, ?it/s]/usr/local/lib/python3.11/dist-packages/torch/utils/data/dataloader.py:624: UserWarning: This DataLoader will create 4 worker processes in total. Our suggested max number of worker in current system is 2, which is smaller than what this DataLoader is going to create. Please be aware that excessive worker creation might get DataLoader running slow or even freeze, lower the worker number to avoid potential slowness/freeze if necessary.\n",
            "  warnings.warn(\n",
            "Epoch 3/15: 100%|██████████| 70/70 [01:12<00:00,  1.04s/it]\n",
            "Epoch 3/15:   0%|          | 0/13 [00:00<?, ?it/s]/usr/local/lib/python3.11/dist-packages/torch/utils/data/dataloader.py:624: UserWarning: This DataLoader will create 4 worker processes in total. Our suggested max number of worker in current system is 2, which is smaller than what this DataLoader is going to create. Please be aware that excessive worker creation might get DataLoader running slow or even freeze, lower the worker number to avoid potential slowness/freeze if necessary.\n",
            "  warnings.warn(\n",
            "Epoch 3/15: 100%|██████████| 13/13 [00:13<00:00,  1.02s/it]\n"
          ]
        },
        {
          "output_type": "stream",
          "name": "stdout",
          "text": [
            "Epoch 03/15 | Train: loss 0.0439 acc 0.9681 auc 0.9953 | Val:   loss 0.0736 acc 0.9274 auc 0.9976\n"
          ]
        },
        {
          "output_type": "stream",
          "name": "stderr",
          "text": [
            "\rEpoch 4/15:   0%|          | 0/70 [00:00<?, ?it/s]/usr/local/lib/python3.11/dist-packages/torch/utils/data/dataloader.py:624: UserWarning: This DataLoader will create 4 worker processes in total. Our suggested max number of worker in current system is 2, which is smaller than what this DataLoader is going to create. Please be aware that excessive worker creation might get DataLoader running slow or even freeze, lower the worker number to avoid potential slowness/freeze if necessary.\n",
            "  warnings.warn(\n",
            "Epoch 4/15: 100%|██████████| 70/70 [01:11<00:00,  1.02s/it]\n",
            "Epoch 4/15:   0%|          | 0/13 [00:00<?, ?it/s]/usr/local/lib/python3.11/dist-packages/torch/utils/data/dataloader.py:624: UserWarning: This DataLoader will create 4 worker processes in total. Our suggested max number of worker in current system is 2, which is smaller than what this DataLoader is going to create. Please be aware that excessive worker creation might get DataLoader running slow or even freeze, lower the worker number to avoid potential slowness/freeze if necessary.\n",
            "  warnings.warn(\n",
            "Epoch 4/15: 100%|██████████| 13/13 [00:13<00:00,  1.01s/it]\n"
          ]
        },
        {
          "output_type": "stream",
          "name": "stdout",
          "text": [
            "Epoch 04/15 | Train: loss 0.0322 acc 0.9748 auc 0.9971 | Val:   loss 0.0342 acc 0.9618 auc 0.9982\n"
          ]
        },
        {
          "output_type": "stream",
          "name": "stderr",
          "text": [
            "\rEpoch 5/15:   0%|          | 0/70 [00:00<?, ?it/s]/usr/local/lib/python3.11/dist-packages/torch/utils/data/dataloader.py:624: UserWarning: This DataLoader will create 4 worker processes in total. Our suggested max number of worker in current system is 2, which is smaller than what this DataLoader is going to create. Please be aware that excessive worker creation might get DataLoader running slow or even freeze, lower the worker number to avoid potential slowness/freeze if necessary.\n",
            "  warnings.warn(\n",
            "Epoch 5/15: 100%|██████████| 70/70 [01:13<00:00,  1.06s/it]\n",
            "Epoch 5/15:   0%|          | 0/13 [00:00<?, ?it/s]/usr/local/lib/python3.11/dist-packages/torch/utils/data/dataloader.py:624: UserWarning: This DataLoader will create 4 worker processes in total. Our suggested max number of worker in current system is 2, which is smaller than what this DataLoader is going to create. Please be aware that excessive worker creation might get DataLoader running slow or even freeze, lower the worker number to avoid potential slowness/freeze if necessary.\n",
            "  warnings.warn(\n",
            "Epoch 5/15: 100%|██████████| 13/13 [00:13<00:00,  1.02s/it]\n"
          ]
        },
        {
          "output_type": "stream",
          "name": "stdout",
          "text": [
            "Epoch 05/15 | Train: loss 0.0375 acc 0.9710 auc 0.9966 | Val:   loss 0.0553 acc 0.9529 auc 0.9935\n"
          ]
        },
        {
          "output_type": "stream",
          "name": "stderr",
          "text": [
            "\rEpoch 6/15:   0%|          | 0/70 [00:00<?, ?it/s]/usr/local/lib/python3.11/dist-packages/torch/utils/data/dataloader.py:624: UserWarning: This DataLoader will create 4 worker processes in total. Our suggested max number of worker in current system is 2, which is smaller than what this DataLoader is going to create. Please be aware that excessive worker creation might get DataLoader running slow or even freeze, lower the worker number to avoid potential slowness/freeze if necessary.\n",
            "  warnings.warn(\n",
            "Epoch 6/15: 100%|██████████| 70/70 [01:12<00:00,  1.04s/it]\n",
            "Epoch 6/15:   0%|          | 0/13 [00:00<?, ?it/s]/usr/local/lib/python3.11/dist-packages/torch/utils/data/dataloader.py:624: UserWarning: This DataLoader will create 4 worker processes in total. Our suggested max number of worker in current system is 2, which is smaller than what this DataLoader is going to create. Please be aware that excessive worker creation might get DataLoader running slow or even freeze, lower the worker number to avoid potential slowness/freeze if necessary.\n",
            "  warnings.warn(\n",
            "Epoch 6/15: 100%|██████████| 13/13 [00:13<00:00,  1.00s/it]\n"
          ]
        },
        {
          "output_type": "stream",
          "name": "stdout",
          "text": [
            "Epoch 06/15 | Train: loss 0.0347 acc 0.9750 auc 0.9968 | Val:   loss 0.0546 acc 0.9732 auc 0.9983\n"
          ]
        },
        {
          "output_type": "stream",
          "name": "stderr",
          "text": [
            "\rEpoch 7/15:   0%|          | 0/70 [00:00<?, ?it/s]/usr/local/lib/python3.11/dist-packages/torch/utils/data/dataloader.py:624: UserWarning: This DataLoader will create 4 worker processes in total. Our suggested max number of worker in current system is 2, which is smaller than what this DataLoader is going to create. Please be aware that excessive worker creation might get DataLoader running slow or even freeze, lower the worker number to avoid potential slowness/freeze if necessary.\n",
            "  warnings.warn(\n",
            "Epoch 7/15: 100%|██████████| 70/70 [01:20<00:00,  1.14s/it]\n",
            "Epoch 7/15:   0%|          | 0/13 [00:00<?, ?it/s]/usr/local/lib/python3.11/dist-packages/torch/utils/data/dataloader.py:624: UserWarning: This DataLoader will create 4 worker processes in total. Our suggested max number of worker in current system is 2, which is smaller than what this DataLoader is going to create. Please be aware that excessive worker creation might get DataLoader running slow or even freeze, lower the worker number to avoid potential slowness/freeze if necessary.\n",
            "  warnings.warn(\n",
            "Epoch 7/15: 100%|██████████| 13/13 [00:13<00:00,  1.01s/it]\n"
          ]
        },
        {
          "output_type": "stream",
          "name": "stdout",
          "text": [
            "Epoch 07/15 | Train: loss 0.0312 acc 0.9775 auc 0.9976 | Val:   loss 0.0329 acc 0.9745 auc 0.9976\n"
          ]
        },
        {
          "output_type": "stream",
          "name": "stderr",
          "text": [
            "\rEpoch 8/15:   0%|          | 0/70 [00:00<?, ?it/s]/usr/local/lib/python3.11/dist-packages/torch/utils/data/dataloader.py:624: UserWarning: This DataLoader will create 4 worker processes in total. Our suggested max number of worker in current system is 2, which is smaller than what this DataLoader is going to create. Please be aware that excessive worker creation might get DataLoader running slow or even freeze, lower the worker number to avoid potential slowness/freeze if necessary.\n",
            "  warnings.warn(\n",
            "Epoch 8/15: 100%|██████████| 70/70 [01:13<00:00,  1.05s/it]\n",
            "Epoch 8/15:   0%|          | 0/13 [00:00<?, ?it/s]/usr/local/lib/python3.11/dist-packages/torch/utils/data/dataloader.py:624: UserWarning: This DataLoader will create 4 worker processes in total. Our suggested max number of worker in current system is 2, which is smaller than what this DataLoader is going to create. Please be aware that excessive worker creation might get DataLoader running slow or even freeze, lower the worker number to avoid potential slowness/freeze if necessary.\n",
            "  warnings.warn(\n",
            "Epoch 8/15: 100%|██████████| 13/13 [00:13<00:00,  1.00s/it]\n"
          ]
        },
        {
          "output_type": "stream",
          "name": "stdout",
          "text": [
            "Epoch 08/15 | Train: loss 0.0256 acc 0.9804 auc 0.9984 | Val:   loss 0.1490 acc 0.9452 auc 0.9965\n"
          ]
        },
        {
          "output_type": "stream",
          "name": "stderr",
          "text": [
            "\rEpoch 9/15:   0%|          | 0/70 [00:00<?, ?it/s]/usr/local/lib/python3.11/dist-packages/torch/utils/data/dataloader.py:624: UserWarning: This DataLoader will create 4 worker processes in total. Our suggested max number of worker in current system is 2, which is smaller than what this DataLoader is going to create. Please be aware that excessive worker creation might get DataLoader running slow or even freeze, lower the worker number to avoid potential slowness/freeze if necessary.\n",
            "  warnings.warn(\n",
            "Epoch 9/15: 100%|██████████| 70/70 [01:12<00:00,  1.04s/it]\n",
            "Epoch 9/15:   0%|          | 0/13 [00:00<?, ?it/s]/usr/local/lib/python3.11/dist-packages/torch/utils/data/dataloader.py:624: UserWarning: This DataLoader will create 4 worker processes in total. Our suggested max number of worker in current system is 2, which is smaller than what this DataLoader is going to create. Please be aware that excessive worker creation might get DataLoader running slow or even freeze, lower the worker number to avoid potential slowness/freeze if necessary.\n",
            "  warnings.warn(\n",
            "Epoch 9/15: 100%|██████████| 13/13 [00:12<00:00,  1.00it/s]\n"
          ]
        },
        {
          "output_type": "stream",
          "name": "stdout",
          "text": [
            "Epoch 09/15 | Train: loss 0.0284 acc 0.9782 auc 0.9979 | Val:   loss 0.0461 acc 0.9439 auc 0.9985\n"
          ]
        },
        {
          "output_type": "stream",
          "name": "stderr",
          "text": [
            "\rEpoch 10/15:   0%|          | 0/70 [00:00<?, ?it/s]/usr/local/lib/python3.11/dist-packages/torch/utils/data/dataloader.py:624: UserWarning: This DataLoader will create 4 worker processes in total. Our suggested max number of worker in current system is 2, which is smaller than what this DataLoader is going to create. Please be aware that excessive worker creation might get DataLoader running slow or even freeze, lower the worker number to avoid potential slowness/freeze if necessary.\n",
            "  warnings.warn(\n",
            "Epoch 10/15: 100%|██████████| 70/70 [01:12<00:00,  1.04s/it]\n",
            "Epoch 10/15:   0%|          | 0/13 [00:00<?, ?it/s]/usr/local/lib/python3.11/dist-packages/torch/utils/data/dataloader.py:624: UserWarning: This DataLoader will create 4 worker processes in total. Our suggested max number of worker in current system is 2, which is smaller than what this DataLoader is going to create. Please be aware that excessive worker creation might get DataLoader running slow or even freeze, lower the worker number to avoid potential slowness/freeze if necessary.\n",
            "  warnings.warn(\n",
            "Epoch 10/15: 100%|██████████| 13/13 [00:13<00:00,  1.01s/it]\n"
          ]
        },
        {
          "output_type": "stream",
          "name": "stdout",
          "text": [
            "Epoch 10/15 | Train: loss 0.0248 acc 0.9809 auc 0.9983 | Val:   loss 0.0412 acc 0.9669 auc 0.9964\n"
          ]
        },
        {
          "output_type": "stream",
          "name": "stderr",
          "text": [
            "\rEpoch 11/15:   0%|          | 0/70 [00:00<?, ?it/s]/usr/local/lib/python3.11/dist-packages/torch/utils/data/dataloader.py:624: UserWarning: This DataLoader will create 4 worker processes in total. Our suggested max number of worker in current system is 2, which is smaller than what this DataLoader is going to create. Please be aware that excessive worker creation might get DataLoader running slow or even freeze, lower the worker number to avoid potential slowness/freeze if necessary.\n",
            "  warnings.warn(\n",
            "Epoch 11/15: 100%|██████████| 70/70 [01:13<00:00,  1.05s/it]\n",
            "Epoch 11/15:   0%|          | 0/13 [00:00<?, ?it/s]/usr/local/lib/python3.11/dist-packages/torch/utils/data/dataloader.py:624: UserWarning: This DataLoader will create 4 worker processes in total. Our suggested max number of worker in current system is 2, which is smaller than what this DataLoader is going to create. Please be aware that excessive worker creation might get DataLoader running slow or even freeze, lower the worker number to avoid potential slowness/freeze if necessary.\n",
            "  warnings.warn(\n",
            "Epoch 11/15: 100%|██████████| 13/13 [00:13<00:00,  1.01s/it]\n"
          ]
        },
        {
          "output_type": "stream",
          "name": "stdout",
          "text": [
            "Epoch 11/15 | Train: loss 0.0281 acc 0.9802 auc 0.9980 | Val:   loss 0.0261 acc 0.9847 auc 0.9985\n"
          ]
        },
        {
          "output_type": "stream",
          "name": "stderr",
          "text": [
            "\rEpoch 12/15:   0%|          | 0/70 [00:00<?, ?it/s]/usr/local/lib/python3.11/dist-packages/torch/utils/data/dataloader.py:624: UserWarning: This DataLoader will create 4 worker processes in total. Our suggested max number of worker in current system is 2, which is smaller than what this DataLoader is going to create. Please be aware that excessive worker creation might get DataLoader running slow or even freeze, lower the worker number to avoid potential slowness/freeze if necessary.\n",
            "  warnings.warn(\n",
            "Epoch 12/15: 100%|██████████| 70/70 [01:11<00:00,  1.02s/it]\n",
            "Epoch 12/15:   0%|          | 0/13 [00:00<?, ?it/s]/usr/local/lib/python3.11/dist-packages/torch/utils/data/dataloader.py:624: UserWarning: This DataLoader will create 4 worker processes in total. Our suggested max number of worker in current system is 2, which is smaller than what this DataLoader is going to create. Please be aware that excessive worker creation might get DataLoader running slow or even freeze, lower the worker number to avoid potential slowness/freeze if necessary.\n",
            "  warnings.warn(\n",
            "Epoch 12/15: 100%|██████████| 13/13 [00:13<00:00,  1.01s/it]\n"
          ]
        },
        {
          "output_type": "stream",
          "name": "stdout",
          "text": [
            "Epoch 12/15 | Train: loss 0.0234 acc 0.9827 auc 0.9985 | Val:   loss 0.0395 acc 0.9682 auc 0.9977\n"
          ]
        },
        {
          "output_type": "stream",
          "name": "stderr",
          "text": [
            "\rEpoch 13/15:   0%|          | 0/70 [00:00<?, ?it/s]/usr/local/lib/python3.11/dist-packages/torch/utils/data/dataloader.py:624: UserWarning: This DataLoader will create 4 worker processes in total. Our suggested max number of worker in current system is 2, which is smaller than what this DataLoader is going to create. Please be aware that excessive worker creation might get DataLoader running slow or even freeze, lower the worker number to avoid potential slowness/freeze if necessary.\n",
            "  warnings.warn(\n",
            "Epoch 13/15: 100%|██████████| 70/70 [01:13<00:00,  1.05s/it]\n",
            "Epoch 13/15:   0%|          | 0/13 [00:00<?, ?it/s]/usr/local/lib/python3.11/dist-packages/torch/utils/data/dataloader.py:624: UserWarning: This DataLoader will create 4 worker processes in total. Our suggested max number of worker in current system is 2, which is smaller than what this DataLoader is going to create. Please be aware that excessive worker creation might get DataLoader running slow or even freeze, lower the worker number to avoid potential slowness/freeze if necessary.\n",
            "  warnings.warn(\n",
            "Epoch 13/15: 100%|██████████| 13/13 [00:12<00:00,  1.00it/s]\n"
          ]
        },
        {
          "output_type": "stream",
          "name": "stdout",
          "text": [
            "Epoch 13/15 | Train: loss 0.0187 acc 0.9861 auc 0.9991 | Val:   loss 0.0788 acc 0.9694 auc 0.9981\n"
          ]
        },
        {
          "output_type": "stream",
          "name": "stderr",
          "text": [
            "\rEpoch 14/15:   0%|          | 0/70 [00:00<?, ?it/s]/usr/local/lib/python3.11/dist-packages/torch/utils/data/dataloader.py:624: UserWarning: This DataLoader will create 4 worker processes in total. Our suggested max number of worker in current system is 2, which is smaller than what this DataLoader is going to create. Please be aware that excessive worker creation might get DataLoader running slow or even freeze, lower the worker number to avoid potential slowness/freeze if necessary.\n",
            "  warnings.warn(\n",
            "Epoch 14/15: 100%|██████████| 70/70 [01:11<00:00,  1.02s/it]\n",
            "Epoch 14/15:   0%|          | 0/13 [00:00<?, ?it/s]/usr/local/lib/python3.11/dist-packages/torch/utils/data/dataloader.py:624: UserWarning: This DataLoader will create 4 worker processes in total. Our suggested max number of worker in current system is 2, which is smaller than what this DataLoader is going to create. Please be aware that excessive worker creation might get DataLoader running slow or even freeze, lower the worker number to avoid potential slowness/freeze if necessary.\n",
            "  warnings.warn(\n",
            "Epoch 14/15: 100%|██████████| 13/13 [00:12<00:00,  1.01it/s]\n"
          ]
        },
        {
          "output_type": "stream",
          "name": "stdout",
          "text": [
            "Epoch 14/15 | Train: loss 0.0229 acc 0.9807 auc 0.9988 | Val:   loss 0.0329 acc 0.9783 auc 0.9975\n"
          ]
        },
        {
          "output_type": "stream",
          "name": "stderr",
          "text": [
            "\rEpoch 15/15:   0%|          | 0/70 [00:00<?, ?it/s]/usr/local/lib/python3.11/dist-packages/torch/utils/data/dataloader.py:624: UserWarning: This DataLoader will create 4 worker processes in total. Our suggested max number of worker in current system is 2, which is smaller than what this DataLoader is going to create. Please be aware that excessive worker creation might get DataLoader running slow or even freeze, lower the worker number to avoid potential slowness/freeze if necessary.\n",
            "  warnings.warn(\n",
            "Epoch 15/15: 100%|██████████| 70/70 [01:13<00:00,  1.05s/it]\n",
            "Epoch 15/15:   0%|          | 0/13 [00:00<?, ?it/s]/usr/local/lib/python3.11/dist-packages/torch/utils/data/dataloader.py:624: UserWarning: This DataLoader will create 4 worker processes in total. Our suggested max number of worker in current system is 2, which is smaller than what this DataLoader is going to create. Please be aware that excessive worker creation might get DataLoader running slow or even freeze, lower the worker number to avoid potential slowness/freeze if necessary.\n",
            "  warnings.warn(\n",
            "Epoch 15/15: 100%|██████████| 13/13 [00:13<00:00,  1.00s/it]"
          ]
        },
        {
          "output_type": "stream",
          "name": "stdout",
          "text": [
            "Epoch 15/15 | Train: loss 0.0250 acc 0.9818 auc 0.9984 | Val:   loss 0.0611 acc 0.9707 auc 0.9976\n",
            "Training finished in 21.6 min. Best val acc: 0.9847\n"
          ]
        },
        {
          "output_type": "stream",
          "name": "stderr",
          "text": [
            "\n"
          ]
        }
      ],
      "execution_count": 12,
      "source": [
        "# CTraining over epochs with early stopping + checkpoint\n",
        "best_val_acc = -np.inf\n",
        "no_improve = 0\n",
        "ckpt_path = \"best_cnn_pneumonia.pt\"\n",
        "\n",
        "history = {\"train_loss\":[], \"train_acc\":[], \"train_auc\":[],\n",
        "           \"val_loss\":[], \"val_acc\":[], \"val_auc\":[]}\n",
        "\n",
        "start = time.time()\n",
        "for epoch in range(1, EPOCHS+1):\n",
        "    tr_loss, tr_acc, tr_auc, _, _ = run_one_epoch(model, train_loader, epoch, optimizer)\n",
        "    va_loss, va_acc, va_auc, _, _ = run_one_epoch(model, val_loader, epoch, optimizer=None)\n",
        "\n",
        "    history[\"train_loss\"].append(tr_loss); history[\"train_acc\"].append(tr_acc); history[\"train_auc\"].append(tr_auc)\n",
        "    history[\"val_loss\"].append(va_loss);   history[\"val_acc\"].append(va_acc);   history[\"val_auc\"].append(va_auc)\n",
        "\n",
        "    # scheduler.step(va_acc)\n",
        "\n",
        "    print(f\"Epoch {epoch:02d}/{EPOCHS} | \"\n",
        "          f\"Train: loss {tr_loss:.4f} acc {tr_acc:.4f} auc {tr_auc:.4f} | \"\n",
        "          f\"Val:   loss {va_loss:.4f} acc {va_acc:.4f} auc {va_auc:.4f}\")\n",
        "\n",
        "    # Early stopping & checkpoint\n",
        "    if va_acc > best_val_acc:\n",
        "        best_val_acc = va_acc\n",
        "        no_improve = 0\n",
        "        torch.save({\"model_state\": model.state_dict(),\n",
        "                    \"optimizer_state\": optimizer.state_dict(),\n",
        "                    \"epoch\": epoch}, ckpt_path)\n",
        "    else:\n",
        "        no_improve += 1\n",
        "        if no_improve >= patience:\n",
        "            print(f\"Early stopping triggered at epoch {epoch}.\")\n",
        "            break\n",
        "\n",
        "print(f\"Training finished in {(time.time()-start)/60:.1f} min. Best val acc: {best_val_acc:.4f}\")"
      ],
      "id": "1d58bfe14ce766bf"
    },
    {
      "metadata": {
        "colab": {
          "base_uri": "https://localhost:8080/",
          "height": 377
        },
        "id": "255812c0f1fcfdcc",
        "outputId": "398cf1c8-261e-461d-9b56-79459ac79912"
      },
      "cell_type": "code",
      "outputs": [
        {
          "output_type": "display_data",
          "data": {
            "text/plain": [
              "<Figure size 1600x400 with 3 Axes>"
            ],
            "image/png": "[encoded data removed]"
          },
          "metadata": {}
        }
      ],
      "execution_count": 13,
      "source": [
        "# Load best checkpoint (optional) and plot curves\n",
        "ckpt = torch.load(ckpt_path, map_location=device)\n",
        "model.load_state_dict(ckpt[\"model_state\"])\n",
        "\n",
        "def plot_curves(h):\n",
        "    fig, axs = plt.subplots(1,3, figsize=(16,4))\n",
        "    axs[0].plot(h[\"train_loss\"], label=\"train\"); axs[0].plot(h[\"val_loss\"], label=\"val\")\n",
        "    axs[0].set_title(\"Loss\"); axs[0].legend()\n",
        "    axs[1].plot(h[\"train_acc\"], label=\"train\"); axs[1].plot(h[\"val_acc\"], label=\"val\")\n",
        "    axs[1].set_title(\"Accuracy\"); axs[1].legend()\n",
        "    axs[2].plot(h[\"train_auc\"], label=\"train\"); axs[2].plot(h[\"val_auc\"], label=\"val\")\n",
        "    axs[2].set_title(\"ROC-AUC\"); axs[2].legend()\n",
        "    plt.show()\n",
        "\n",
        "plot_curves(history)"
      ],
      "id": "255812c0f1fcfdcc"
    },
    {
      "metadata": {
        "ExecuteTime": {
          "end_time": "2025-08-09T12:21:47.551803Z",
          "start_time": "2025-08-09T12:21:16.744174Z"
        },
        "colab": {
          "base_uri": "https://localhost:8080/",
          "height": 777
        },
        "id": "2843d787f59a7656",
        "outputId": "77f1568b-b269-4328-812d-85b48df9d75c"
      },
      "cell_type": "code",
      "source": [
        "# Final test evaluation + confusion matrix, precision/recall/F1\n",
        "test_loss, test_acc, test_auc, probs, targets = run_one_epoch(model, test_loader, 1, optimizer=None)\n",
        "print(f\"test pres (first 10): {probs[:10]}\")\n",
        "## TODO: consider using a threshold other than 0.5\n",
        "preds = (probs >= 0.5).astype(int)\n",
        "\n",
        "print(f\"TEST — loss: {test_loss:.4f} | acc: {test_acc:.4f} | auc: {test_auc:.4f}\")\n",
        "\n",
        "cm = confusion_matrix(targets, preds)\n",
        "print(\"Confusion Matrix:\\n\", cm)\n",
        "\n",
        "print(\"\\nClassification Report:\\n\",\n",
        "      classification_report(targets, preds, target_names=test_ds.classes, digits=4))\n",
        "\n",
        "# Quick ROC curve\n",
        "fpr, tpr, _ = roc_curve(targets, probs)\n",
        "plt.figure(figsize=(4,4))\n",
        "plt.plot(fpr, tpr, lw=2)\n",
        "plt.plot([0,1],[0,1],'--')\n",
        "plt.xlabel('FPR'); plt.ylabel('TPR'); plt.title('ROC Curve (Test)')\n",
        "plt.grid(True); plt.show()"
      ],
      "id": "2843d787f59a7656",
      "outputs": [
        {
          "output_type": "stream",
          "name": "stderr",
          "text": [
            "\rEpoch 1/15:   0%|          | 0/10 [00:00<?, ?it/s]/usr/local/lib/python3.11/dist-packages/torch/utils/data/dataloader.py:624: UserWarning: This DataLoader will create 4 worker processes in total. Our suggested max number of worker in current system is 2, which is smaller than what this DataLoader is going to create. Please be aware that excessive worker creation might get DataLoader running slow or even freeze, lower the worker number to avoid potential slowness/freeze if necessary.\n",
            "  warnings.warn(\n",
            "Epoch 1/15: 100%|██████████| 10/10 [00:11<00:00,  1.11s/it]"
          ]
        },
        {
          "output_type": "stream",
          "name": "stdout",
          "text": [
            "test pres (first 10): [0.01177473 0.06346016 0.67115945 0.1181073  0.0028984  0.00697887\n",
            " 0.19570495 0.03608383 0.90575504 0.51232105]\n",
            "TEST — loss: 0.6012 | acc: 0.8590 | auc: 0.9683\n",
            "Confusion Matrix:\n",
            " [[148  86]\n",
            " [  2 388]]\n",
            "\n",
            "Classification Report:\n",
            "               precision    recall  f1-score   support\n",
            "\n",
            "      NORMAL     0.9867    0.6325    0.7708       234\n",
            "   PNEUMONIA     0.8186    0.9949    0.8981       390\n",
            "\n",
            "    accuracy                         0.8590       624\n",
            "   macro avg     0.9026    0.8137    0.8345       624\n",
            "weighted avg     0.8816    0.8590    0.8504       624\n",
            "\n"
          ]
        },
        {
          "output_type": "stream",
          "name": "stderr",
          "text": [
            "\n"
          ]
        },
        {
          "output_type": "display_data",
          "data": {
            "text/plain": [
              "<Figure size 400x400 with 1 Axes>"
            ],
            "image/png": "[encoded data removed]"
          },
          "metadata": {}
        }
      ],
      "execution_count": 14
    },
    {
      "metadata": {
        "ExecuteTime": {
          "end_time": "2025-08-09T12:21:47.647401Z",
          "start_time": "2025-08-09T12:21:47.639355Z"
        },
        "id": "91f49abba928a490"
      },
      "cell_type": "code",
      "source": [
        "# Inference helper (predict on a few samples)\n",
        "from PIL import Image\n",
        "\n",
        "def predict_image(path, model, tfms=transform):\n",
        "    model.eval()\n",
        "    img = Image.open(path).convert(\"RGB\")\n",
        "    x = tfms(img).unsqueeze(0).to(device)\n",
        "    with torch.no_grad():\n",
        "        logit = model(x)\n",
        "        prob = torch.sigmoid(logit).item()\n",
        "    pred = int(prob >= 0.5)\n",
        "    return prob, pred  # probability of PNEUMONIA, predicted label (0 normal / 1 pneumonia)\n",
        "\n",
        "# Example:\n",
        "# p, yhat = predict_image(os.path.join(test_dir, \"PNEUMONIA\", os.listdir(os.path.join(test_dir,\"PNEUMONIA\"))[0]), model)\n",
        "# print(p, yhat)\n"
      ],
      "id": "91f49abba928a490",
      "outputs": [],
      "execution_count": 15
    },
    {
      "metadata": {
        "ExecuteTime": {
          "end_time": "2025-08-09T12:21:47.665365Z",
          "start_time": "2025-08-09T12:21:47.660465Z"
        },
        "id": "a4a8d86f0508e0a7"
      },
      "cell_type": "code",
      "source": [
        "# TODO: consider adding Visualizations like the R3"
      ],
      "id": "a4a8d86f0508e0a7",
      "outputs": [],
      "execution_count": 16
    }
  ],
  "metadata": {
    "kernelspec": {
      "display_name": "Python 3",
      "name": "python3"
    },
    "language_info": {
      "codemirror_mode": {
        "name": "ipython",
        "version": 2
      },
      "file_extension": ".py",
      "mimetype": "text/x-python",
      "name": "python",
      "nbconvert_exporter": "python",
      "pygments_lexer": "ipython2",
      "version": "2.7.6"
    },
    "colab": {
      "provenance": [],
      "gpuType": "T4"
    },
    "accelerator": "GPU"
  },
  "nbformat": 4,
  "nbformat_minor": 5
}