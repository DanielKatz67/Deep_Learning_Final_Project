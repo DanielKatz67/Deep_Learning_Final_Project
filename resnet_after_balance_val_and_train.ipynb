{
 "cells": [
  {
   "metadata": {
    "colab": {
     "base_uri": "https://localhost:8080/"
    },
    "id": "b703f1837ead424",
    "outputId": "961b388c-6052-45c6-8ed1-d385585df273",
    "ExecuteTime": {
     "end_time": "2025-08-16T08:16:38.279160Z",
     "start_time": "2025-08-16T08:16:35.129750Z"
    }
   },
   "cell_type": "code",
   "source": [
    "# Setup (PyTorch, paths, device, seeds)\n",
    "import os, random, math, time\n",
    "import numpy as np\n",
    "import matplotlib.pyplot as plt\n",
    "import kagglehub\n",
    "import torch\n",
    "import torch.nn as nn\n",
    "import torch.nn.functional as F\n",
    "from torch.optim import AdamW\n",
    "from torch.optim.lr_scheduler import ReduceLROnPlateau\n",
    "from torch.utils.data import DataLoader\n",
    "from torchvision import datasets, transforms ,models\n",
    "from tqdm import tqdm\n",
    "from sklearn.model_selection import train_test_split\n",
    "import shutil\n",
    "import tempfile\n",
    "\n",
    "from sklearn.metrics import confusion_matrix, classification_report, roc_auc_score, roc_curve, precision_recall_fscore_support"
   ],
   "id": "b703f1837ead424",
   "outputs": [],
   "execution_count": 1
  },
  {
   "metadata": {
    "ExecuteTime": {
     "end_time": "2025-08-16T08:16:38.290300Z",
     "start_time": "2025-08-16T08:16:38.284776Z"
    }
   },
   "cell_type": "code",
   "source": [
    "def seed_all(seed=42):\n",
    "    random.seed(seed)\n",
    "    np.random.seed(seed)\n",
    "    torch.manual_seed(seed)\n",
    "    torch.cuda.manual_seed_all(seed)\n",
    "    torch.backends.cudnn.deterministic = True\n",
    "    torch.backends.cudnn.benchmark = False\n",
    "\n",
    "seed_all(42)"
   ],
   "id": "2f8779a4b3e56be4",
   "outputs": [],
   "execution_count": 2
  },
  {
   "metadata": {
    "id": "afc4e9f146f60171",
    "ExecuteTime": {
     "end_time": "2025-08-16T08:16:38.747073Z",
     "start_time": "2025-08-16T08:16:38.300247Z"
    }
   },
   "cell_type": "code",
   "source": [
    "path = kagglehub.dataset_download(\"paultimothymooney/chest-xray-pneumonia\")\n",
    "# Use the returned path to set base_dir correctly\n",
    "base_dir = os.path.join(path, \"chest_xray\")\n",
    "train_dir = os.path.join(base_dir, 'train')\n",
    "val_dir   = os.path.join(base_dir, 'val')\n",
    "test_dir  = os.path.join(base_dir, 'test')"
   ],
   "id": "afc4e9f146f60171",
   "outputs": [],
   "execution_count": 3
  },
  {
   "metadata": {
    "colab": {
     "base_uri": "https://localhost:8080/"
    },
    "id": "fbaee290adb9096e",
    "outputId": "6c5cf39d-3e23-4adb-8086-4289c881c034",
    "ExecuteTime": {
     "end_time": "2025-08-16T08:16:39.654043Z",
     "start_time": "2025-08-16T08:16:39.651011Z"
    }
   },
   "cell_type": "code",
   "source": [
    "print(\"Train dir:\", train_dir)\n",
    "print(\"Val dir:\", val_dir)\n",
    "print(\"Test dir:\", test_dir)\n",
    "\n",
    "print(\"Train dir contents:\", os.listdir(train_dir))\n",
    "print(\"Val dir contents:\", os.listdir(val_dir))\n",
    "print(\"Test dir contents:\", os.listdir(test_dir))"
   ],
   "id": "fbaee290adb9096e",
   "outputs": [
    {
     "name": "stdout",
     "output_type": "stream",
     "text": [
      "Train dir: /Users/daniel/.cache/kagglehub/datasets/paultimothymooney/chest-xray-pneumonia/versions/2/chest_xray/train\n",
      "Val dir: /Users/daniel/.cache/kagglehub/datasets/paultimothymooney/chest-xray-pneumonia/versions/2/chest_xray/val\n",
      "Test dir: /Users/daniel/.cache/kagglehub/datasets/paultimothymooney/chest-xray-pneumonia/versions/2/chest_xray/test\n",
      "Train dir contents: ['.DS_Store', 'PNEUMONIA', 'NORMAL']\n",
      "Val dir contents: ['.DS_Store', 'PNEUMONIA', 'NORMAL']\n",
      "Test dir contents: ['.DS_Store', 'PNEUMONIA', 'NORMAL']\n"
     ]
    }
   ],
   "execution_count": 4
  },
  {
   "metadata": {
    "ExecuteTime": {
     "end_time": "2025-08-16T08:16:42.459625Z",
     "start_time": "2025-08-16T08:16:42.453932Z"
    }
   },
   "cell_type": "code",
   "source": [
    "def plot_distribution_from_folder(base_dir, splits, class_names, title_prefix):\n",
    "    for split in splits:\n",
    "        counts = []\n",
    "        for cls in class_names:\n",
    "            folder = os.path.join(base_dir, split, cls)\n",
    "            counts.append(len(os.listdir(folder)))\n",
    "        plt.figure(figsize=(6,4))\n",
    "        plt.bar(class_names, counts)\n",
    "        plt.title(f\"{title_prefix} {split} set class counts\")\n",
    "        plt.ylabel(\"Count\")\n",
    "        plt.tight_layout()\n",
    "        plt.show()\n"
   ],
   "id": "29faa6a32f3f0b34",
   "outputs": [],
   "execution_count": 5
  },
  {
   "metadata": {
    "ExecuteTime": {
     "end_time": "2025-08-16T08:16:46.752943Z",
     "start_time": "2025-08-16T08:16:43.137984Z"
    }
   },
   "cell_type": "code",
   "source": [
    "# Print image counts before shuffle/split\n",
    "print('Before split:')\n",
    "for split in ['train', 'val']:\n",
    "    for cls in ['NORMAL', 'PNEUMONIA']:\n",
    "        folder = os.path.join(base_dir, split, cls)\n",
    "        print(f\"{split}/{cls}: {len(os.listdir(folder))}\")\n",
    "\n",
    "class_names = ['NORMAL', 'PNEUMONIA']\n",
    "\n",
    "# Combine all images from train and val only (do not touch test)\n",
    "all_data = []\n",
    "for split in ['train', 'val']:\n",
    "    for cls in ['NORMAL', 'PNEUMONIA']:\n",
    "        folder = os.path.join(base_dir, split, cls)\n",
    "        for fname in os.listdir(folder):\n",
    "            all_data.append((os.path.join(folder, fname), cls))\n",
    "\n",
    "# Stratified split: 85% train, 15% val\n",
    "paths, labels = zip(*all_data)\n",
    "train_paths, val_paths, train_labels, val_labels = train_test_split(\n",
    "    paths, labels, test_size=0.15, stratify=labels, random_state=42)\n",
    "\n",
    "def copy_files(file_paths, labels, dest_dir):\n",
    "    for path, label in zip(file_paths, labels):\n",
    "        dest = os.path.join(dest_dir, label)\n",
    "        os.makedirs(dest, exist_ok=True)\n",
    "        shutil.copy(path, dest)\n",
    "\n",
    "# Set your new base_dir for split (must be writable, e.g., /kaggle/working or local path)\n",
    "# Use /kaggle/working if running on Kaggle, or a local writable path otherwise\n",
    "\n",
    "# Use a writable temp directory for the split\n",
    "new_base = os.path.join(tempfile.gettempdir(), \"chest_xray_split\")\n",
    "copy_files(train_paths, train_labels, os.path.join(new_base, 'train'))\n",
    "copy_files(val_paths, val_labels, os.path.join(new_base, 'val'))\n",
    "\n",
    "# Print image counts after shuffle/split\n",
    "print('After split:')\n",
    "for split in ['train', 'val']:\n",
    "    for cls in ['NORMAL', 'PNEUMONIA']:\n",
    "        folder = os.path.join(new_base, split, cls)\n",
    "        print(f\"{split}/{cls}: {len(os.listdir(folder))}\")\n",
    "\n",
    "# Plot distribution after split\n",
    "plot_distribution_from_folder(new_base, ['train', 'val'], class_names, \"After split:\")\n",
    "\n",
    "# Update directory variables to point to the new split\n",
    "train_dir = os.path.join(new_base, 'train')\n",
    "val_dir   = os.path.join(new_base, 'val')\n",
    "# test_dir remains unchanged"
   ],
   "id": "8d93d2451787e13e",
   "outputs": [
    {
     "name": "stdout",
     "output_type": "stream",
     "text": [
      "Before split:\n",
      "train/NORMAL: 1341\n",
      "train/PNEUMONIA: 3875\n",
      "val/NORMAL: 8\n",
      "val/PNEUMONIA: 8\n"
     ]
    },
    {
     "data": {
      "text/plain": [
       "<Figure size 800x400 with 1 Axes>"
      ],
      "image/png": "[encoded data removed]"
     },
     "metadata": {},
     "output_type": "display_data"
    },
    {
     "name": "stdout",
     "output_type": "stream",
     "text": [
      "After split:\n",
      "train/NORMAL: 1147\n",
      "train/PNEUMONIA: 3300\n",
      "val/NORMAL: 202\n",
      "val/PNEUMONIA: 583\n"
     ]
    },
    {
     "data": {
      "text/plain": [
       "<Figure size 600x400 with 1 Axes>"
      ],
      "image/png": "[encoded data removed]"
     },
     "metadata": {},
     "output_type": "display_data"
    },
    {
     "data": {
      "text/plain": [
       "<Figure size 600x400 with 1 Axes>"
      ],
      "image/png": "[encoded data removed]"
     },
     "metadata": {},
     "output_type": "display_data"
    }
   ],
   "execution_count": 6
  },
  {
   "metadata": {
    "colab": {
     "base_uri": "https://localhost:8080/"
    },
    "id": "99a268b479a53658",
    "outputId": "4049d57e-781b-417a-9061-c51c599985ce"
   },
   "cell_type": "code",
   "source": [
    "# Datasets, DataLoaders, class weights (for imbalance)\n",
    "IMG_SIZE = 224\n",
    "BATCH_SIZE = 64\n",
    "NUM_WORKERS = 4\n",
    "\n",
    "normalize = transforms.Normalize(mean=[0.485, 0.456, 0.406], std =[0.229, 0.224, 0.225])\n",
    "\n",
    "train_tfms = transforms.Compose([\n",
    "    transforms.Grayscale(num_output_channels=3),\n",
    "    transforms.Resize((256, 256)),\n",
    "    transforms.RandomResizedCrop(IMG_SIZE, scale=(0.9, 1.0)),\n",
    "    transforms.RandomHorizontalFlip(p=0.5),\n",
    "    transforms.RandomRotation(10),\n",
    "    transforms.ToTensor(),\n",
    "    normalize,\n",
    "])\n",
    "\n",
    "eval_tfms = transforms.Compose([\n",
    "    transforms.Grayscale(num_output_channels=3),\n",
    "    transforms.Resize((256, 256)),\n",
    "    transforms.CenterCrop(IMG_SIZE),\n",
    "    transforms.ToTensor(),\n",
    "    normalize,\n",
    "])\n",
    "\n",
    "train_ds = datasets.ImageFolder(train_dir, transform=train_tfms)\n",
    "val_ds   = datasets.ImageFolder(val_dir,   transform=eval_tfms)\n",
    "test_ds  = datasets.ImageFolder(test_dir,  transform=eval_tfms)\n",
    "\n",
    "print(\"Classes:\", train_ds.classes, \"=>\", train_ds.class_to_idx)"
   ],
   "id": "99a268b479a53658",
   "outputs": [],
   "execution_count": null
  },
  {
   "metadata": {
    "id": "de02151071936a6e"
   },
   "cell_type": "code",
   "source": [
    "# CNN model as a class (__init__ + forward)\n",
    "class PneumoCNN(nn.Module):\n",
    "    def __init__(self, dropout_p=0.2):\n",
    "        super(PneumoCNN, self).__init__()\n",
    "        m = models.resnet18(weights=models.ResNet18_Weights.IMAGENET1K_V1)\n",
    "        m.fc = nn.Sequential(\n",
    "            nn.Dropout(dropout_p),\n",
    "            nn.Linear(m.fc.in_features, 1)\n",
    "        )\n",
    "        self.net = m\n",
    "\n",
    "    def forward(self, x):\n",
    "        return self.net(x).squeeze(1)  # [B]"
   ],
   "id": "de02151071936a6e",
   "outputs": [],
   "execution_count": null
  },
  {
   "metadata": {
    "colab": {
     "base_uri": "https://localhost:8080/"
    },
    "id": "ed24565bb530937a",
    "outputId": "a4e4fcea-e189-4688-8157-69348d18d5e1"
   },
   "cell_type": "code",
   "source": [
    "model = PneumoCNN()\n",
    "model"
   ],
   "id": "ed24565bb530937a",
   "outputs": [],
   "execution_count": null
  },
  {
   "metadata": {
    "colab": {
     "base_uri": "https://localhost:8080/"
    },
    "id": "f97b0d4eeba3a3a4",
    "outputId": "5ce54006-f71f-4fdc-9eee-f343c024460d"
   },
   "cell_type": "code",
   "source": [
    "device = torch.device(\"cuda\" if torch.cuda.is_available() else \"cpu\")\n",
    "print(\"device: \", device)\n",
    "model = model.to(device)\n",
    "EPOCHS = 15\n",
    "patience = int(EPOCHS * 2/3)\n",
    "lr = 1e-3\n",
    "\n",
    "train_loader = DataLoader(train_ds, batch_size=BATCH_SIZE, shuffle=True,  num_workers=NUM_WORKERS, pin_memory=True)\n",
    "val_loader   = DataLoader(val_ds,   batch_size=BATCH_SIZE, shuffle=False, num_workers=NUM_WORKERS, pin_memory=True)\n",
    "test_loader  = DataLoader(test_ds,  batch_size=BATCH_SIZE, shuffle=False, num_workers=NUM_WORKERS, pin_memory=True)"
   ],
   "id": "f97b0d4eeba3a3a4",
   "outputs": [],
   "execution_count": null
  },
  {
   "metadata": {
    "colab": {
     "base_uri": "https://localhost:8080/"
    },
    "id": "9b8cdf49ba014121",
    "outputId": "e2e84f11-16b2-4a2b-fb23-9336d8b6efe9"
   },
   "cell_type": "code",
   "source": [
    "# Compute class weights for BCEWithLogitsLoss (pos_weight = N_neg / N_pos for label=1 class)\n",
    "# In ImageFolder, NORMAL -> 0, PNEUMONIA -> 1 (alphabetical)\n",
    "train_targets = torch.tensor([y for _, y in train_ds.samples])\n",
    "pos = (train_targets==1).sum().item()\n",
    "neg = (train_targets==0).sum().item()\n",
    "pos_weight = torch.tensor([neg / max(pos,1.0)], dtype=torch.float32)\n",
    "print(f\"Train counts -> NEG(NORMAL)={neg}, POS(PNEUMONIA)={pos}, pos_weight={pos_weight.item():.3f}\")"
   ],
   "id": "9b8cdf49ba014121",
   "outputs": [],
   "execution_count": null
  },
  {
   "metadata": {
    "id": "b50f3aa6180c3597"
   },
   "cell_type": "code",
   "source": [
    "# # Loss, Optimizer, LR scheduler\n",
    "criterion = nn.BCEWithLogitsLoss(pos_weight=pos_weight.to(device))  # robust for class imbalance\n",
    "optimizer = AdamW(model.parameters(), lr=lr)\n",
    "scheduler = ReduceLROnPlateau(optimizer, mode='max', factor=0.5, patience=2, verbose=True)"
   ],
   "id": "b50f3aa6180c3597",
   "outputs": [],
   "execution_count": null
  },
  {
   "metadata": {
    "id": "d8a6d6a722cb7021"
   },
   "cell_type": "code",
   "source": [
    "# Utilities: train/eval loops\n",
    "def accuracy_from_logits(logits, targets):\n",
    "    probs = torch.sigmoid(logits).squeeze(1)\n",
    "    preds = (probs >= 0.5).long()\n",
    "    correct = (preds == targets.long()).sum().item()\n",
    "    return correct, preds, probs\n",
    "\n",
    "def run_one_epoch(model, loader, epochNumber, optimizer=None):\n",
    "    is_train = optimizer is not None\n",
    "    model.train() if is_train else model.eval()\n",
    "    epoch_loss = 0.0\n",
    "    correct = 0\n",
    "    n = 0\n",
    "    all_probs, all_targets = [], []\n",
    "\n",
    "    for images, targets in tqdm(loader, desc=f\"Epoch {epochNumber}/{EPOCHS}\"):\n",
    "        images = images.to(device, non_blocking=True)\n",
    "        targets = targets.to(device, non_blocking=True)\n",
    "\n",
    "        with torch.set_grad_enabled(is_train):\n",
    "            logits  = model(images)\n",
    "            if logits.ndim == 2 and logits.size(1) == 1:\n",
    "                logits = logits[:, 0]\n",
    "            targets = targets.float().view(-1)\n",
    "            loss = criterion(logits, targets)\n",
    "            if is_train:\n",
    "                optimizer.zero_grad(set_to_none=True)\n",
    "                loss.backward()\n",
    "                optimizer.step()\n",
    "\n",
    "        c, _, probs = accuracy_from_logits(logits.unsqueeze(1), targets)\n",
    "        epoch_loss += loss.item() * images.size(0)\n",
    "        correct += c\n",
    "        n += images.size(0)\n",
    "\n",
    "        all_probs.append(probs.detach().cpu())\n",
    "        all_targets.append(targets.detach().cpu())\n",
    "\n",
    "    avg_loss = epoch_loss / n\n",
    "    acc = correct / n\n",
    "    all_probs = torch.cat(all_probs).numpy()\n",
    "    all_targets = torch.cat(all_targets).numpy()\n",
    "\n",
    "    # Some environments may lack enough positive/negative samples for AUC early on; guard it\n",
    "    try:\n",
    "        auc = roc_auc_score(all_targets, all_probs)\n",
    "    except Exception:\n",
    "        auc = float('nan')\n",
    "\n",
    "    return avg_loss, acc, auc, all_probs, all_targets"
   ],
   "id": "d8a6d6a722cb7021",
   "outputs": [],
   "execution_count": null
  },
  {
   "metadata": {
    "colab": {
     "base_uri": "https://localhost:8080/"
    },
    "id": "1d58bfe14ce766bf",
    "outputId": "6142a76d-6fdd-4ad7-d09e-02ecd8efe641"
   },
   "cell_type": "code",
   "source": [
    "# CTraining over epochs with early stopping + checkpoint\n",
    "# best_val_acc = -np.inf\n",
    "best_val_auc = -np.inf\n",
    "no_improve = 0\n",
    "ckpt_path = \"best_cnn_pneumonia.pt\"\n",
    "\n",
    "history = {\"train_loss\":[], \"train_acc\":[], \"train_auc\":[],\n",
    "           \"val_loss\":[], \"val_acc\":[], \"val_auc\":[]}\n",
    "\n",
    "start = time.time()\n",
    "for epoch in range(1, EPOCHS+1):\n",
    "    tr_loss, tr_acc, tr_auc, _, _ = run_one_epoch(model, train_loader, epoch, optimizer)\n",
    "    val_loss, val_acc, val_auc, _, _ = run_one_epoch(model, val_loader, epoch, optimizer=None)\n",
    "\n",
    "    history[\"train_loss\"].append(tr_loss); history[\"train_acc\"].append(tr_acc); history[\"train_auc\"].append(tr_auc)\n",
    "    history[\"val_loss\"].append(val_loss);   history[\"val_acc\"].append(val_acc);   history[\"val_auc\"].append(val_auc)\n",
    "\n",
    "    scheduler.step(val_auc)\n",
    "\n",
    "    print(f\"Epoch {epoch:02d}/{EPOCHS} | \"\n",
    "          f\"Train: loss {tr_loss:.4f} acc {tr_acc:.4f} auc {tr_auc:.4f} | \"\n",
    "          f\"Val:   loss {val_loss:.4f} acc {val_acc:.4f} auc {val_auc:.4f}\")\n",
    "\n",
    "    # Early stopping & checkpoint\n",
    "    # if va_acc > best_val_acc:\n",
    "    #     best_val_acc = va_acc\n",
    "    if val_auc > best_val_auc:\n",
    "        best_val_auc = val_auc\n",
    "        no_improve = 0\n",
    "        torch.save({\"model_state\": model.state_dict(),\n",
    "                    \"optimizer_state\": optimizer.state_dict(),\n",
    "                    \"epoch\": epoch}, ckpt_path)\n",
    "    else:\n",
    "        no_improve += 1\n",
    "        if no_improve >= patience:\n",
    "            print(f\"Early stopping triggered at epoch {epoch}.\")\n",
    "            break\n",
    "\n",
    "print(f\"Training finished in {(time.time()-start)/60:.1f} min. Best val AUC: {best_val_auc:.4f}\")\n",
    "\n",
    "\n",
    "# print(f\"Training finished in {(time.time()-start)/60:.1f} min. Best val acc: {best_val_acc:.4f}\")"
   ],
   "id": "1d58bfe14ce766bf",
   "outputs": [],
   "execution_count": null
  },
  {
   "metadata": {
    "colab": {
     "base_uri": "https://localhost:8080/",
     "height": 377
    },
    "id": "255812c0f1fcfdcc",
    "outputId": "398cf1c8-261e-461d-9b56-79459ac79912"
   },
   "cell_type": "code",
   "source": [
    "# Load best checkpoint (optional) and plot curves\n",
    "ckpt = torch.load(ckpt_path, map_location=device)\n",
    "model.load_state_dict(ckpt[\"model_state\"])\n",
    "\n",
    "def plot_curves(h):\n",
    "    fig, axs = plt.subplots(1,3, figsize=(16,4))\n",
    "    axs[0].plot(h[\"train_loss\"], label=\"train\"); axs[0].plot(h[\"val_loss\"], label=\"val\")\n",
    "    axs[0].set_title(\"Loss\"); axs[0].legend()\n",
    "    axs[1].plot(h[\"train_acc\"], label=\"train\"); axs[1].plot(h[\"val_acc\"], label=\"val\")\n",
    "    axs[1].set_title(\"Accuracy\"); axs[1].legend()\n",
    "    axs[2].plot(h[\"train_auc\"], label=\"train\"); axs[2].plot(h[\"val_auc\"], label=\"val\")\n",
    "    axs[2].set_title(\"ROC-AUC\"); axs[2].legend()\n",
    "    plt.show()\n",
    "\n",
    "plot_curves(history)"
   ],
   "id": "255812c0f1fcfdcc",
   "outputs": [],
   "execution_count": null
  },
  {
   "metadata": {},
   "cell_type": "code",
   "source": [
    "import numpy as np\n",
    "from sklearn.metrics import roc_curve, precision_recall_curve\n",
    "\n",
    "# Get validation scores (probabilities for Pneumonia=1) and labels\n",
    "_, _, va_auc, va_probs, va_targets = run_one_epoch(model, val_loader, epoch=0, optimizer=None)\n",
    "\n",
    "# Max F1\n",
    "prec, rec, thr_pr = precision_recall_curve(va_targets, va_probs)  # thr_pr length = len(prec)-1\n",
    "f1 = 2 * prec[:-1] * rec[:-1] / (prec[:-1] + rec[:-1] + 1e-12)\n",
    "thr_f1 = float(thr_pr[f1.argmax()])\n",
    "\n",
    "best_thr = thr_f1   # or thr_j\n",
    "print(\"Chosen threshold:\", best_thr)"
   ],
   "id": "2eacf0686271bb14",
   "outputs": [],
   "execution_count": null
  },
  {
   "metadata": {
    "colab": {
     "base_uri": "https://localhost:8080/",
     "height": 777
    },
    "id": "2843d787f59a7656",
    "outputId": "77f1568b-b269-4328-812d-85b48df9d75c"
   },
   "cell_type": "code",
   "source": [
    "# Final test evaluation + confusion matrix, precision/recall/F1\n",
    "test_loss, _, test_auc, test_probs, targets = run_one_epoch(model, test_loader, 1, optimizer=None)\n",
    "test_preds = (test_probs >= best_thr).astype(int)\n",
    "test_acc_thr = (test_preds == targets).mean()\n",
    "\n",
    "# print(f\"test pres (first 10): {probs[:10]}\")\n",
    "# ## consider using a threshold other than 0.5\n",
    "# preds = (probs >= 0.5).astype(int)\n",
    "\n",
    "print(f\"TEST — loss: {test_loss:.4f} | acc@thr: {test_acc_thr:.4f} | auc: {test_auc:.4f}\")\n",
    "\n",
    "cm = confusion_matrix(targets, test_preds)\n",
    "print(\"Confusion Matrix:\\n\", cm)\n",
    "\n",
    "print(\"\\nClassification Report:\\n\",\n",
    "      classification_report(targets, test_preds, target_names=test_ds.classes, digits=4))\n",
    "\n",
    "# Quick ROC curve\n",
    "fpr, tpr, _ = roc_curve(targets, test_probs)\n",
    "plt.figure(figsize=(4,4))\n",
    "plt.plot(fpr, tpr, lw=2)\n",
    "plt.plot([0,1],[0,1],'--')\n",
    "plt.xlabel('FPR'); plt.ylabel('TPR'); plt.title('ROC Curve (Test)')\n",
    "plt.grid(True); plt.show()"
   ],
   "id": "d71cac24db5afb47",
   "outputs": [],
   "execution_count": null
  },
  {
   "metadata": {
    "id": "91f49abba928a490"
   },
   "cell_type": "code",
   "source": [
    "# Inference helper (predict on a few samples)\n",
    "from PIL import Image\n",
    "\n",
    "def predict_image(path, model, tfms=eval_tfms):\n",
    "    model.eval()\n",
    "    img = Image.open(path).convert(\"RGB\")\n",
    "    x = tfms(img).unsqueeze(0).to(device)\n",
    "    with torch.no_grad():\n",
    "        logit = model(x)\n",
    "        prob = torch.sigmoid(logit).item()\n",
    "    pred = int(prob >= best_thr)\n",
    "    return prob, pred  # probability of PNEUMONIA, predicted label (0 normal / 1 pneumonia)\n",
    "\n",
    "# Example:\n",
    "# p, yhat = predict_image(os.path.join(test_dir, \"PNEUMONIA\", os.listdir(os.path.join(test_dir,\"PNEUMONIA\"))[0]), model)\n",
    "# print(p, yhat)\n"
   ],
   "id": "91f49abba928a490",
   "outputs": [],
   "execution_count": null
  },
  {
   "metadata": {
    "id": "a4a8d86f0508e0a7"
   },
   "cell_type": "code",
   "source": [
    "# TODO: consider adding Visualizations like the R3"
   ],
   "id": "a4a8d86f0508e0a7",
   "outputs": [],
   "execution_count": null
  }
 ],
 "metadata": {
  "kernelspec": {
   "display_name": "Python 3 (ipykernel)",
   "name": "python3",
   "language": "python"
  },
  "language_info": {
   "codemirror_mode": {
    "name": "ipython",
    "version": 2
   },
   "file_extension": ".py",
   "mimetype": "text/x-python",
   "name": "python",
   "nbconvert_exporter": "python",
   "pygments_lexer": "ipython2",
   "version": "2.7.6"
  },
  "colab": {
   "provenance": [],
   "gpuType": "T4"
  },
  "accelerator": "GPU"
 },
 "nbformat": 4,
 "nbformat_minor": 5
}
